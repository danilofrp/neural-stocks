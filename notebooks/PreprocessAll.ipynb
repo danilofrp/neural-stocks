{
 "cells": [
  {
   "cell_type": "markdown",
   "metadata": {},
   "source": [
    "# Preprocess all\n",
    "\n",
    "## Author: Danilo Filippo Reiszel Pereira\n",
    "Univesidade Federal do Rio de Janeiro\n",
    "\n",
    "This notebook preprocesses all data files and stores them into new ones"
   ]
  },
  {
   "cell_type": "code",
   "execution_count": 1,
   "metadata": {},
   "outputs": [],
   "source": [
    "from __future__ import print_function\n",
    "import sys, os\n",
    "sys.path.append('../src')\n",
    "from neuralstocks.dataacquisition import *"
   ]
  },
  {
   "cell_type": "code",
   "execution_count": null,
   "metadata": {},
   "outputs": [],
   "source": [
    "dataPath = '../../data'\n",
    "\n",
    "for dataType in os.listdir(dataPath):\n",
    "    typePath = dataPath + '/' + dataType\n",
    "    for asset in os.listdir(typePath):\n",
    "        assetPath = typePath + '/' + asset\n",
    "        if assetPath.endswith('.csv') or assetPath.endswith('.CSV'):\n",
    "            pass\n",
    "        else:\n",
    "            freqPath = assetPath + '/diario'\n",
    "            fullpath = freqPath + '/' + asset + '.CSV'\n",
    "            print('preprocessing {} ({})'.format(asset, 'diario'), end='\\r')\n",
    "            init = time.time()\n",
    "            if dataType == 'stocks':\n",
    "                df = acquireData(filePath = freqPath + '/' + asset + '.CSV',\n",
    "                                 replicateForHolidays = True,\n",
    "                                 meanStdLen = 20,\n",
    "                                 returnCalcParams = [['Close'], \n",
    "                                                     ['Close', 'Open'], \n",
    "                                                     ['High', 'Close' ], \n",
    "                                                     ['Low', 'Close']],\n",
    "                                 EMAparams = [{'column': 'Close', 'lenght': 17}, \n",
    "                                              {'column': 'Close', 'lenght': 72}, \n",
    "                                              {'column': 'Close', 'lenght': 200}, \n",
    "                                              {'column': 'Volume', 'lenght': 21}],\n",
    "                                 MACDParams = [{'fast_lenght': 12, \n",
    "                                                'slow_lenght': 26, \n",
    "                                                'signal_lenght': 9}],\n",
    "                                 BBParams = [{'lenght': 20}],\n",
    "                                 OBVParams = [{'lenght': None}],\n",
    "                                 deTrendParams = {'column': 'Close', 'window': 6, 'model': 'additive', \n",
    "                                                  'weightModel': 'window_acorr', 'weightModelWindow': 18},\n",
    "                                 colPrefix = asset,\n",
    "                                 dropNan = True\n",
    "                                )\n",
    "            else:\n",
    "                df = acquireData(filePath = freqPath + '/' + asset + '.CSV',\n",
    "                                 replicateForHolidays = True,\n",
    "                                 meanStdLen = 20,\n",
    "                                 returnCalcParams = [['Close'], \n",
    "                                                     ['Close', 'Open'], \n",
    "                                                     ['High', 'Close' ], \n",
    "                                                     ['Low', 'Close']],\n",
    "                                 EMAparams = [{'column': 'Close', 'lenght': 17}, \n",
    "                                              {'column': 'Close', 'lenght': 72}, \n",
    "                                              {'column': 'Close', 'lenght': 200}],\n",
    "                                 colPrefix = asset,\n",
    "                                 dropNan = True\n",
    "                                )\n",
    "            df.to_csv(path_or_buf = freqPath + '/' + asset + '_prep.CSV')\n",
    "\n",
    "            print('{} ({}) processed. Duration: {}'.format(asset, 'diario', time.time() - init))"
   ]
  }
 ],
 "metadata": {
  "kernelspec": {
   "display_name": "Python 2",
   "language": "python",
   "name": "python2"
  },
  "language_info": {
   "codemirror_mode": {
    "name": "ipython",
    "version": 2
   },
   "file_extension": ".py",
   "mimetype": "text/x-python",
   "name": "python",
   "nbconvert_exporter": "python",
   "pygments_lexer": "ipython2",
   "version": "2.7.12"
  }
 },
 "nbformat": 4,
 "nbformat_minor": 2
}
