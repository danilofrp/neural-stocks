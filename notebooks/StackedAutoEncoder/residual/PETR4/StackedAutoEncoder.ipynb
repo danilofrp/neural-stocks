{
 "cells": [
  {
   "cell_type": "markdown",
   "metadata": {},
   "source": [
    "# StackedAutoEncoder predictor\n",
    "\n",
    "## Author: Danilo Filippo Reiszel Pereira\n",
    "Univesidade Federal do Rio de Janeiro\n",
    "\n",
    "This notebook contains the creation a Multi-layer Perceptron model to predict D+1 closing prices of PETR4 stocks, as input 10 delays of it's return series, using the StackedAutoEncoder approach for pre-training"
   ]
  },
  {
   "cell_type": "code",
   "execution_count": 1,
   "metadata": {},
   "outputs": [
    {
     "name": "stderr",
     "output_type": "stream",
     "text": [
      "Using TensorFlow backend.\n"
     ]
    }
   ],
   "source": [
    "from __future__ import print_function\n",
    "import sys, os\n",
    "sys.path.append('../../../../src')\n",
    "import time\n",
    "import numpy as np\n",
    "import pandas as pd\n",
    "import matplotlib.pyplot as plt\n",
    "from neuralstocks.dataacquisition import *\n",
    "from neuralstocks.plots import *\n",
    "from sklearn.preprocessing import MinMaxScaler\n",
    "from keras.models import Sequential, load_model\n",
    "from keras.layers import Dense\n",
    "from keras import optimizers\n",
    "from keras.callbacks import ModelCheckpoint, EarlyStopping"
   ]
  },
  {
   "cell_type": "markdown",
   "metadata": {},
   "source": [
    "## Global Params\n",
    "Setting global params and useful variables, such as directories and image styling"
   ]
  },
  {
   "cell_type": "code",
   "execution_count": 2,
   "metadata": {},
   "outputs": [
    {
     "name": "stdout",
     "output_type": "stream",
     "text": [
      "\n",
      "\n",
      "\n"
     ]
    }
   ],
   "source": [
    "pathPETR4 = '../../../../../data/stocks/PETR4/diario/PETR4.CSV'\n",
    "pathIBOV = '../../../../../data/indexes/IBOV/diario/IBOV.CSV'\n",
    "pathUSDBRL = '../../../../../data/forex/USDBRL/diario/USDBRL.CSV'\n",
    "\n",
    "decomposeModel = 'additive'\n",
    "\n",
    "saveVarDir = './Variables'\n",
    "os.makedirs(saveVarDir) if not os.path.exists(saveVarDir) else print('')\n",
    "\n",
    "saveFigDir = './Figures'\n",
    "os.makedirs(saveFigDir) if not os.path.exists(saveFigDir) else print('')\n",
    "\n",
    "saveModelDir = './Models'\n",
    "os.makedirs(saveModelDir) if not os.path.exists(saveModelDir) else print('')\n",
    "\n",
    "saveImgFormat = 'png'\n",
    "\n",
    "plt.rcParams['font.weight'] = 'bold'\n",
    "plt.rcParams['figure.titlesize'] = 20\n",
    "plt.rcParams['figure.titleweight'] = 'bold'\n",
    "plt.rcParams['axes.titlesize'] = 18\n",
    "plt.rcParams['axes.titleweight'] = 'bold'\n",
    "plt.rcParams['axes.labelsize'] = 18\n",
    "plt.rcParams['axes.labelweight'] = 'bold'\n",
    "plt.rcParams['xtick.labelsize'] = 15\n",
    "plt.rcParams['ytick.labelsize'] = 15"
   ]
  },
  {
   "cell_type": "markdown",
   "metadata": {},
   "source": [
    "## Data Acquisition and Preprocessing\n",
    "\n",
    "Gathers and preprocess data. Data from auxiliary time series (such as IBOV index and USDBRL exchange rate) is also gathered, though tipically less indicators are calculated for this series. Trend Extraction is applied to desired series.\n",
    "\n",
    "<strong>List of indicators applied to main time series: </strong>\n",
    "<ul>\n",
    "    <li>Mean and Standard Deviation, 20 periods</li>\n",
    "    <li>Returns Calculations:\n",
    "        <ul>\n",
    "            <li>Close<sub>d</sub> / Close<sub>d-1</sub></li>\n",
    "            <li>Close<sub>d</sub> / Open<sub>d</sub></li>\n",
    "            <li>High<sub>d</sub> / Close<sub>d</sub></li>\n",
    "            <li>Low<sub>d</sub> / Close<sub>d</sub></li>\n",
    "        </ul>\n",
    "    </li>\n",
    "    <li>EMAs:\n",
    "        <ul>\n",
    "            <li>Close, 17 periods</li>\n",
    "            <li>Close, 72 periods</li>\n",
    "            <li>Close, 200 periods</li>\n",
    "            <li>Volume, 21 periods</li>\n",
    "        </ul>\n",
    "    </li>\n",
    "    <li>MACD, fast EMA = 12 periods, slow EMA = 26 periods, signal EMA = 9 periods</li>\n",
    "    <li>Bollinger Bands, 20 periods</li>\n",
    "    <li>On-Balance Volume (OBV)</li>\n",
    "</ul>\n",
    "\n",
    "<strong>Parameters for trend extraction:</strong>\n",
    "<ul>\n",
    "    <li>Column: Close</li>\n",
    "    <li>Decompose model: Additive</li>\n",
    "    <li>Fitting Order: 1 (by default)</li>\n",
    "    <li>Window Size: 6</li>\n",
    "    <li>Fitting Weigths Model: Autocorrelation</li>\n",
    "    <li>Fitting Weigths Model Window Size: 18</li>\n",
    "</ul>"
   ]
  },
  {
   "cell_type": "code",
   "execution_count": 3,
   "metadata": {},
   "outputs": [
    {
     "name": "stdout",
     "output_type": "stream",
     "text": [
      "Time to acquire and process data: 11.1826369762 seconds\n"
     ]
    }
   ],
   "source": [
    "init_time = time.time()\n",
    "PETR4 = acquireData(filePath = pathPETR4,\n",
    "                    replicateForHolidays = True,\n",
    "                    meanStdLen = 20,\n",
    "                    returnCalcParams = [['Close'], ['Close', 'Open'], ['High', 'Close' ], ['Low', 'Close']],\n",
    "                    EMAparams = [{'column': 'Close', 'lenght': 17}, \n",
    "                                 {'column': 'Close', 'lenght': 72}, \n",
    "                                 {'column': 'Close', 'lenght': 200}, \n",
    "                                 {'column': 'Volume', 'lenght': 21}],\n",
    "                    MACDParams = [{'fast_lenght': 12, 'slow_lenght': 26, 'signal_lenght': 9}],\n",
    "                    BBParams = [{'lenght': 20}],\n",
    "                    OBVParams = [{'lenght': None}],\n",
    "                    deTrendParams = {'column': 'Close', 'window': 6, 'model': decomposeModel, \n",
    "                                     'weightModel': 'window_acorr', 'weightModelWindow': 18},\n",
    "                    colPrefix = 'PETR4',\n",
    "                    dropNan = True\n",
    "                   )\n",
    "\n",
    "IBOV = acquireData(filePath = pathIBOV,\n",
    "                    replicateForHolidays = True,\n",
    "                    meanStdLen = 20,\n",
    "                    returnCalcParams = [['Close'], ['Close', 'Open'], ['High', 'Close' ], ['Low', 'Close']],\n",
    "                    EMAparams = [{'column': 'Close', 'lenght': 17}, \n",
    "                                 {'column': 'Close', 'lenght': 72}, \n",
    "                                 {'column': 'Close', 'lenght': 200}],\n",
    "                    colPrefix = 'IBOV',\n",
    "                    dropNan = True\n",
    "                  )\n",
    "\n",
    "USDBRL= acquireData(filePath = pathUSDBRL,\n",
    "                    replicateForHolidays = True,\n",
    "                    meanStdLen = 20,\n",
    "                    returnCalcParams = [['Close'], ['Close', 'Open'], ['High', 'Close' ], ['Low', 'Close']],\n",
    "                    EMAparams = [{'column': 'Close', 'lenght': 17}, \n",
    "                                 {'column': 'Close', 'lenght': 72}, \n",
    "                                 {'column': 'Close', 'lenght': 200}],\n",
    "                    colPrefix = 'USDBRL',\n",
    "                    dropNan = True\n",
    "                   )\n",
    "\n",
    "\n",
    "end_time = time.time()\n",
    "print('Time to acquire and process data: '+str(end_time-init_time)+' seconds')"
   ]
  },
  {
   "cell_type": "markdown",
   "metadata": {},
   "source": [
    "## Dataset concatenation and selection of wich features to feed to the model"
   ]
  },
  {
   "cell_type": "code",
   "execution_count": 9,
   "metadata": {},
   "outputs": [],
   "source": [
    "df = pd.concat([PETR4, IBOV, USDBRL], axis = 1).dropna()\n",
    "\n",
    "columnsToUse = ['PETR4_Close_resid',\n",
    "                'PETR4_Close_rollStd20', \n",
    "                'PETR4_Close_returns', 'PETR4_Close/Open_returns', 'PETR4_High/Close_returns', 'PETR4_Low/Close_returns', \n",
    "                'PETR4_Close_EMA17_logdiff', 'PETR4_Close_EMA72_logdiff', 'PETR4_Close_EMA200_logdiff', 'PETR4_Volume_EMA21_logdiff', \n",
    "                'PETR4_MACD_12_26_9', 'PETR4_MACDsignal_12_26_9', 'PETR4_Bollinger%b_20', 'PETR4_OBV', \n",
    "                'PETR4_Holiday',\n",
    "                'IBOV_Close_rollStd20', \n",
    "                'IBOV_Close_returns', 'IBOV_Close/Open_returns', 'IBOV_High/Close_returns', 'IBOV_Low/Close_returns',\n",
    "                'IBOV_Close_EMA17_logdiff', 'IBOV_Close_EMA72_logdiff', 'IBOV_Close_EMA200_logdiff',\n",
    "                'USDBRL_Close_rollStd20', \n",
    "                'USDBRL_Close_returns', 'USDBRL_Close/Open_returns', 'USDBRL_High/Close_returns', 'USDBRL_Low/Close_returns',\n",
    "                'USDBRL_Close_EMA17_logdiff', 'USDBRL_Close_EMA72_logdiff', 'USDBRL_Close_EMA200_logdiff',\n",
    "               ]"
   ]
  },
  {
   "cell_type": "markdown",
   "metadata": {},
   "source": [
    "## Creation of feature matrix and output array, split of data in Train, Validation and Test sets\n",
    "All data from 2017 is used as Test set, reamining data is split into train and validation according to *validationSplitSize*"
   ]
  },
  {
   "cell_type": "code",
   "execution_count": 10,
   "metadata": {},
   "outputs": [
    {
     "name": "stdout",
     "output_type": "stream",
     "text": [
      "Number of batches in training set: 3557\n",
      "Number of batches in validation set: 628\n",
      "Number of batches in test set: 175\n",
      "Number of features per batch: 40\n"
     ]
    }
   ],
   "source": [
    "xTrain, yTrain, xVal, yVal, xTest, yTest = prepData(df = df, \n",
    "                                                    columnsToUse = columnsToUse, \n",
    "                                                    columnToPredict = 'PETR4_Close_resid', \n",
    "                                                    nDelays = 10, \n",
    "                                                    testSetSize = len(df['2017']), \n",
    "                                                    validationSplitSize = 0.15\n",
    "                                                   )\n",
    "\n",
    "print('Number of batches in training set: {}'.format(len(xTrain)))\n",
    "print('Number of batches in validation set: {}'.format(len(xVal)))\n",
    "print('Number of batches in test set: {}'.format(len(xTest)))\n",
    "print('Number of features per batch: {}'.format(len(xTrain[1])))"
   ]
  },
  {
   "cell_type": "markdown",
   "metadata": {},
   "source": [
    "## Feature Scalling\n",
    "Technique used: Normalisation"
   ]
  },
  {
   "cell_type": "code",
   "execution_count": 12,
   "metadata": {},
   "outputs": [],
   "source": [
    "xScaler = MinMaxScaler(feature_range = (-1,1))\n",
    "xScaler.fit(xTrain)\n",
    "\n",
    "yScaler = MinMaxScaler(feature_range = (-1,1))\n",
    "yScaler.fit(yTrain)\n",
    "\n",
    "xTrain = xScaler.transform(xTrain)\n",
    "xVal = xScaler.transform(xVal)\n",
    "xTest  = xScaler.transform(xTest)\n",
    "\n",
    "yTrain = yScaler.transform(yTrain)\n",
    "yVal = yScaler.transform(yVal)"
   ]
  },
  {
   "cell_type": "markdown",
   "metadata": {},
   "source": [
    "## Creation and initializaion of a single hidden layer autoencoder"
   ]
  },
  {
   "cell_type": "code",
   "execution_count": 17,
   "metadata": {},
   "outputs": [
    {
     "name": "stdout",
     "output_type": "stream",
     "text": [
      "_________________________________________________________________\n",
      "Layer (type)                 Output Shape              Param #   \n",
      "=================================================================\n",
      "dense_3 (Dense)              (None, 20)                820       \n",
      "_________________________________________________________________\n",
      "dense_4 (Dense)              (None, 40)                840       \n",
      "=================================================================\n",
      "Total params: 1,660\n",
      "Trainable params: 1,660\n",
      "Non-trainable params: 0\n",
      "_________________________________________________________________\n"
     ]
    }
   ],
   "source": [
    "inputDim = len(xTrain[1])\n",
    "\n",
    "autoencoder = Sequential([\n",
    "                          Dense(20, activation = 'tanh', kernel_initializer = 'uniform', input_dim = inputDim),\n",
    "                          Dense(inputDim, activation = 'tanh', kernel_initializer = 'uniform')\n",
    "                         ])\n",
    "\n",
    "#SGD = optimizers.SGD(lr=0.5, momentum=0.00, decay=0.0, nesterov=False)\n",
    "\n",
    "autoencoder.compile(optimizer = 'adam', loss='mse', metrics=['accuracy', 'mae'])\n",
    "autoencoder.summary()\n"
   ]
  },
  {
   "cell_type": "markdown",
   "metadata": {},
   "source": [
    "## Fitting the model to data"
   ]
  },
  {
   "cell_type": "code",
   "execution_count": 26,
   "metadata": {},
   "outputs": [
    {
     "name": "stdout",
     "output_type": "stream",
     "text": [
      "Train on 3557 samples, validate on 628 samples\n",
      "Epoch 1/2000\n",
      "3557/3557 [==============================] - 0s - loss: 0.0030 - acc: 0.7265 - mean_absolute_error: 0.0376 - val_loss: 0.0032 - val_acc: 0.7293 - val_mean_absolute_error: 0.0377\n",
      "Epoch 2/2000\n",
      "3557/3557 [==============================] - 0s - loss: 0.0030 - acc: 0.7290 - mean_absolute_error: 0.0375 - val_loss: 0.0032 - val_acc: 0.7309 - val_mean_absolute_error: 0.0379\n",
      "Epoch 3/2000\n",
      "3557/3557 [==============================] - 0s - loss: 0.0030 - acc: 0.7287 - mean_absolute_error: 0.0376 - val_loss: 0.0032 - val_acc: 0.7166 - val_mean_absolute_error: 0.0381\n",
      "Epoch 4/2000\n",
      "3557/3557 [==============================] - 0s - loss: 0.0030 - acc: 0.7256 - mean_absolute_error: 0.0376 - val_loss: 0.0032 - val_acc: 0.7197 - val_mean_absolute_error: 0.0379\n",
      "Epoch 5/2000\n",
      "3557/3557 [==============================] - 0s - loss: 0.0030 - acc: 0.7281 - mean_absolute_error: 0.0376 - val_loss: 0.0032 - val_acc: 0.7166 - val_mean_absolute_error: 0.0378\n",
      "Epoch 6/2000\n",
      "3557/3557 [==============================] - 0s - loss: 0.0030 - acc: 0.7265 - mean_absolute_error: 0.0376 - val_loss: 0.0032 - val_acc: 0.7245 - val_mean_absolute_error: 0.0378\n",
      "Epoch 7/2000\n",
      "3557/3557 [==============================] - 0s - loss: 0.0030 - acc: 0.7267 - mean_absolute_error: 0.0375 - val_loss: 0.0032 - val_acc: 0.7277 - val_mean_absolute_error: 0.0379\n",
      "Epoch 8/2000\n",
      "3557/3557 [==============================] - 0s - loss: 0.0030 - acc: 0.7295 - mean_absolute_error: 0.0376 - val_loss: 0.0032 - val_acc: 0.7261 - val_mean_absolute_error: 0.0380\n",
      "Epoch 9/2000\n",
      "3557/3557 [==============================] - 0s - loss: 0.0030 - acc: 0.7253 - mean_absolute_error: 0.0375 - val_loss: 0.0032 - val_acc: 0.7245 - val_mean_absolute_error: 0.0378\n",
      "Epoch 10/2000\n",
      "3557/3557 [==============================] - 0s - loss: 0.0030 - acc: 0.7262 - mean_absolute_error: 0.0376 - val_loss: 0.0032 - val_acc: 0.7166 - val_mean_absolute_error: 0.0380\n",
      "Epoch 11/2000\n",
      "3557/3557 [==============================] - 0s - loss: 0.0030 - acc: 0.7293 - mean_absolute_error: 0.0376 - val_loss: 0.0032 - val_acc: 0.7261 - val_mean_absolute_error: 0.0377\n",
      "Epoch 12/2000\n",
      "3557/3557 [==============================] - 0s - loss: 0.0030 - acc: 0.7315 - mean_absolute_error: 0.0375 - val_loss: 0.0032 - val_acc: 0.7341 - val_mean_absolute_error: 0.0377\n",
      "Epoch 13/2000\n",
      "3557/3557 [==============================] - 0s - loss: 0.0030 - acc: 0.7298 - mean_absolute_error: 0.0375 - val_loss: 0.0032 - val_acc: 0.7293 - val_mean_absolute_error: 0.0378\n",
      "Epoch 14/2000\n",
      "3557/3557 [==============================] - 0s - loss: 0.0030 - acc: 0.7276 - mean_absolute_error: 0.0375 - val_loss: 0.0032 - val_acc: 0.7357 - val_mean_absolute_error: 0.0379\n",
      "Epoch 15/2000\n",
      "3557/3557 [==============================] - 0s - loss: 0.0030 - acc: 0.7259 - mean_absolute_error: 0.0375 - val_loss: 0.0032 - val_acc: 0.7197 - val_mean_absolute_error: 0.0379\n",
      "Epoch 16/2000\n",
      "3557/3557 [==============================] - 0s - loss: 0.0030 - acc: 0.7304 - mean_absolute_error: 0.0375 - val_loss: 0.0032 - val_acc: 0.7229 - val_mean_absolute_error: 0.0379\n",
      "Epoch 17/2000\n",
      "3557/3557 [==============================] - 0s - loss: 0.0030 - acc: 0.7262 - mean_absolute_error: 0.0375 - val_loss: 0.0032 - val_acc: 0.7293 - val_mean_absolute_error: 0.0377\n",
      "Epoch 18/2000\n",
      "3557/3557 [==============================] - 0s - loss: 0.0030 - acc: 0.7318 - mean_absolute_error: 0.0375 - val_loss: 0.0032 - val_acc: 0.7309 - val_mean_absolute_error: 0.0377\n",
      "Epoch 19/2000\n",
      "3557/3557 [==============================] - 0s - loss: 0.0030 - acc: 0.7279 - mean_absolute_error: 0.0375 - val_loss: 0.0032 - val_acc: 0.7341 - val_mean_absolute_error: 0.0381\n",
      "Epoch 20/2000\n",
      "3557/3557 [==============================] - 0s - loss: 0.0030 - acc: 0.7265 - mean_absolute_error: 0.0375 - val_loss: 0.0032 - val_acc: 0.7341 - val_mean_absolute_error: 0.0378\n",
      "Epoch 21/2000\n",
      "3557/3557 [==============================] - 0s - loss: 0.0030 - acc: 0.7295 - mean_absolute_error: 0.0374 - val_loss: 0.0032 - val_acc: 0.7261 - val_mean_absolute_error: 0.0378\n",
      "Epoch 22/2000\n",
      "3557/3557 [==============================] - 0s - loss: 0.0030 - acc: 0.7228 - mean_absolute_error: 0.0374 - val_loss: 0.0032 - val_acc: 0.7197 - val_mean_absolute_error: 0.0383\n",
      "Epoch 23/2000\n",
      "3557/3557 [==============================] - 0s - loss: 0.0030 - acc: 0.7239 - mean_absolute_error: 0.0375 - val_loss: 0.0032 - val_acc: 0.7309 - val_mean_absolute_error: 0.0377\n",
      "Epoch 24/2000\n",
      "3557/3557 [==============================] - 0s - loss: 0.0030 - acc: 0.7273 - mean_absolute_error: 0.0374 - val_loss: 0.0032 - val_acc: 0.7245 - val_mean_absolute_error: 0.0376\n",
      "Epoch 25/2000\n",
      "3557/3557 [==============================] - 0s - loss: 0.0030 - acc: 0.7256 - mean_absolute_error: 0.0374 - val_loss: 0.0032 - val_acc: 0.7309 - val_mean_absolute_error: 0.0378\n",
      "Epoch 26/2000\n",
      "3557/3557 [==============================] - 0s - loss: 0.0030 - acc: 0.7279 - mean_absolute_error: 0.0375 - val_loss: 0.0032 - val_acc: 0.7293 - val_mean_absolute_error: 0.0378\n",
      "Epoch 27/2000\n",
      "3557/3557 [==============================] - 0s - loss: 0.0030 - acc: 0.7253 - mean_absolute_error: 0.0375 - val_loss: 0.0032 - val_acc: 0.7293 - val_mean_absolute_error: 0.0376\n",
      "Epoch 28/2000\n",
      "3557/3557 [==============================] - 0s - loss: 0.0030 - acc: 0.7250 - mean_absolute_error: 0.0374 - val_loss: 0.0032 - val_acc: 0.7261 - val_mean_absolute_error: 0.0379\n",
      "Epoch 29/2000\n",
      "3557/3557 [==============================] - 0s - loss: 0.0030 - acc: 0.7270 - mean_absolute_error: 0.0374 - val_loss: 0.0032 - val_acc: 0.7245 - val_mean_absolute_error: 0.0377\n",
      "Epoch 30/2000\n",
      "3557/3557 [==============================] - 0s - loss: 0.0030 - acc: 0.7267 - mean_absolute_error: 0.0374 - val_loss: 0.0032 - val_acc: 0.7309 - val_mean_absolute_error: 0.0377\n",
      "Epoch 31/2000\n",
      "3557/3557 [==============================] - 0s - loss: 0.0030 - acc: 0.7279 - mean_absolute_error: 0.0374 - val_loss: 0.0032 - val_acc: 0.7309 - val_mean_absolute_error: 0.0378\n",
      "Epoch 32/2000\n",
      "3557/3557 [==============================] - 0s - loss: 0.0030 - acc: 0.7301 - mean_absolute_error: 0.0374 - val_loss: 0.0032 - val_acc: 0.7277 - val_mean_absolute_error: 0.0377\n",
      "Epoch 33/2000\n",
      "3557/3557 [==============================] - 0s - loss: 0.0030 - acc: 0.7301 - mean_absolute_error: 0.0374 - val_loss: 0.0032 - val_acc: 0.7213 - val_mean_absolute_error: 0.0378\n",
      "Epoch 34/2000\n",
      "3557/3557 [==============================] - 0s - loss: 0.0030 - acc: 0.7287 - mean_absolute_error: 0.0373 - val_loss: 0.0031 - val_acc: 0.7357 - val_mean_absolute_error: 0.0376\n",
      "Epoch 35/2000\n",
      "3557/3557 [==============================] - 0s - loss: 0.0030 - acc: 0.7273 - mean_absolute_error: 0.0374 - val_loss: 0.0032 - val_acc: 0.7213 - val_mean_absolute_error: 0.0374\n",
      "Epoch 36/2000\n",
      "3557/3557 [==============================] - 0s - loss: 0.0030 - acc: 0.7293 - mean_absolute_error: 0.0373 - val_loss: 0.0032 - val_acc: 0.7325 - val_mean_absolute_error: 0.0375\n",
      "Epoch 37/2000\n",
      "3557/3557 [==============================] - 0s - loss: 0.0030 - acc: 0.7267 - mean_absolute_error: 0.0373 - val_loss: 0.0032 - val_acc: 0.7261 - val_mean_absolute_error: 0.0377\n",
      "Epoch 38/2000\n",
      "3557/3557 [==============================] - 0s - loss: 0.0030 - acc: 0.7301 - mean_absolute_error: 0.0373 - val_loss: 0.0032 - val_acc: 0.7261 - val_mean_absolute_error: 0.0376\n",
      "Epoch 39/2000\n",
      "3557/3557 [==============================] - 0s - loss: 0.0030 - acc: 0.7287 - mean_absolute_error: 0.0373 - val_loss: 0.0032 - val_acc: 0.7166 - val_mean_absolute_error: 0.0377\n",
      "Epoch 40/2000\n",
      "3557/3557 [==============================] - 0s - loss: 0.0030 - acc: 0.7273 - mean_absolute_error: 0.0374 - val_loss: 0.0032 - val_acc: 0.7261 - val_mean_absolute_error: 0.0376\n",
      "Epoch 41/2000\n",
      "3557/3557 [==============================] - 0s - loss: 0.0030 - acc: 0.7236 - mean_absolute_error: 0.0374 - val_loss: 0.0032 - val_acc: 0.7357 - val_mean_absolute_error: 0.0377\n",
      "Epoch 42/2000\n",
      "3557/3557 [==============================] - 0s - loss: 0.0030 - acc: 0.7321 - mean_absolute_error: 0.0373 - val_loss: 0.0032 - val_acc: 0.7261 - val_mean_absolute_error: 0.0379\n",
      "Epoch 43/2000\n"
     ]
    },
    {
     "name": "stdout",
     "output_type": "stream",
     "text": [
      "3557/3557 [==============================] - 0s - loss: 0.0030 - acc: 0.7284 - mean_absolute_error: 0.0373 - val_loss: 0.0032 - val_acc: 0.7309 - val_mean_absolute_error: 0.0375\n",
      "Epoch 44/2000\n",
      "3557/3557 [==============================] - 0s - loss: 0.0030 - acc: 0.7304 - mean_absolute_error: 0.0373 - val_loss: 0.0032 - val_acc: 0.7373 - val_mean_absolute_error: 0.0376\n",
      "Epoch 45/2000\n",
      "3557/3557 [==============================] - 0s - loss: 0.0030 - acc: 0.7262 - mean_absolute_error: 0.0373 - val_loss: 0.0032 - val_acc: 0.7293 - val_mean_absolute_error: 0.0377\n",
      "Time to fit model: 3.66910004616 seconds\n"
     ]
    }
   ],
   "source": [
    "earlyStopping = EarlyStopping(monitor = 'val_loss', patience = 10, mode = 'auto')\n",
    "\n",
    "init_time = time.time()\n",
    "\n",
    "fitHistory = autoencoder.fit(xTrain, \n",
    "                             xTrain, \n",
    "                             epochs = 2000,\n",
    "                             verbose = 1,\n",
    "                             shuffle = True,\n",
    "                             validation_data = (xVal, xVal), \n",
    "                             callbacks = [earlyStopping])\n",
    "\n",
    "end_time = time.time()\n",
    "\n",
    "print('Time to fit model: '+str(end_time-init_time)+' seconds')"
   ]
  },
  {
   "cell_type": "markdown",
   "metadata": {},
   "source": [
    "## Visualizing the Training History"
   ]
  },
  {
   "cell_type": "code",
   "execution_count": null,
   "metadata": {},
   "outputs": [],
   "source": [
    "fig, ax = plt.subplots(figsize = (10,10), nrows = 1, ncols = 1)\n",
    "ax.set_title('RMSE per epoch')\n",
    "ax.set_xlabel('Epoch')\n",
    "ax.set_ylabel('RMSE')\n",
    "trainigSet, = ax.plot(np.sqrt(fitHistory.history['loss']), 'b', label = 'trainig set')\n",
    "validationSet, = ax.plot(np.sqrt(fitHistory.history['val_loss']), 'r', label = 'validation set')\n",
    "plt.legend(handles=[trainigSet, validationSet], labels=['training set', 'validation set'], prop={'size': 15})\n",
    "#fig.savefig('{}/{}.{}'.format(saveFigDir, 'RMSE_per_epoch_autoencoder_30_40', 'pdf'), bbox_inches='tight')"
   ]
  },
  {
   "cell_type": "markdown",
   "metadata": {},
   "source": [
    "## Extracting autoencoder first layer to be used as encoder"
   ]
  },
  {
   "cell_type": "code",
   "execution_count": 28,
   "metadata": {},
   "outputs": [
    {
     "name": "stdout",
     "output_type": "stream",
     "text": [
      "_________________________________________________________________\n",
      "Layer (type)                 Output Shape              Param #   \n",
      "=================================================================\n",
      "dense_3 (Dense)              (None, 20)                820       \n",
      "=================================================================\n",
      "Total params: 820\n",
      "Trainable params: 820\n",
      "Non-trainable params: 0\n",
      "_________________________________________________________________\n"
     ]
    }
   ],
   "source": [
    "encoder1layer = autoencoder.get_layer(index=1)\n",
    "encoder1 = Sequential([encoder1layer])\n",
    "encoder1.compile(optimizer = 'adam', loss='mse')\n",
    "encoder1.summary()"
   ]
  },
  {
   "cell_type": "markdown",
   "metadata": {},
   "source": [
    "## Encoding data for use as input in the next autoencoder "
   ]
  },
  {
   "cell_type": "code",
   "execution_count": 29,
   "metadata": {},
   "outputs": [],
   "source": [
    "xTrainEncoded1 = encoder1.predict(xTrain)\n",
    "xValEncoded1 = encoder1.predict(xVal)"
   ]
  },
  {
   "cell_type": "markdown",
   "metadata": {},
   "source": [
    "## Creating another autoencoder, for second layer "
   ]
  },
  {
   "cell_type": "code",
   "execution_count": 30,
   "metadata": {},
   "outputs": [
    {
     "name": "stdout",
     "output_type": "stream",
     "text": [
      "_________________________________________________________________\n",
      "Layer (type)                 Output Shape              Param #   \n",
      "=================================================================\n",
      "dense_9 (Dense)              (None, 20)                420       \n",
      "_________________________________________________________________\n",
      "dense_10 (Dense)             (None, 20)                420       \n",
      "=================================================================\n",
      "Total params: 840\n",
      "Trainable params: 840\n",
      "Non-trainable params: 0\n",
      "_________________________________________________________________\n"
     ]
    }
   ],
   "source": [
    "inputDim = len(xTrainEncoded1[1])\n",
    "\n",
    "autoencoder2 = Sequential([\n",
    "                           Dense(20, activation = 'tanh', kernel_initializer = 'uniform', input_dim = inputDim),\n",
    "                           Dense(inputDim, activation = 'tanh', kernel_initializer = 'uniform')\n",
    "                          ])\n",
    "\n",
    "#SGD = optimizers.SGD(lr=0.5, momentum=0.00, decay=0.0, nesterov=False)\n",
    "\n",
    "autoencoder2.compile(optimizer = 'adam', loss='mse', metrics=['accuracy', 'mae'])\n",
    "autoencoder2.summary()"
   ]
  },
  {
   "cell_type": "code",
   "execution_count": 32,
   "metadata": {},
   "outputs": [
    {
     "name": "stdout",
     "output_type": "stream",
     "text": [
      "Train on 3557 samples, validate on 628 samples\n",
      "Epoch 1/2000\n",
      "3557/3557 [==============================] - 0s - loss: 0.0406 - acc: 0.3337 - mean_absolute_error: 0.1572 - val_loss: 0.0286 - val_acc: 0.4777 - val_mean_absolute_error: 0.1297\n",
      "Epoch 2/2000\n",
      "3557/3557 [==============================] - 0s - loss: 0.0225 - acc: 0.5277 - mean_absolute_error: 0.1137 - val_loss: 0.0163 - val_acc: 0.6481 - val_mean_absolute_error: 0.0959\n",
      "Epoch 3/2000\n",
      "3557/3557 [==============================] - 0s - loss: 0.0134 - acc: 0.6073 - mean_absolute_error: 0.0872 - val_loss: 0.0108 - val_acc: 0.7070 - val_mean_absolute_error: 0.0769\n",
      "Epoch 4/2000\n",
      "3557/3557 [==============================] - 0s - loss: 0.0093 - acc: 0.6646 - mean_absolute_error: 0.0715 - val_loss: 0.0079 - val_acc: 0.7548 - val_mean_absolute_error: 0.0644\n",
      "Epoch 5/2000\n",
      "3557/3557 [==============================] - 0s - loss: 0.0070 - acc: 0.7093 - mean_absolute_error: 0.0608 - val_loss: 0.0061 - val_acc: 0.7755 - val_mean_absolute_error: 0.0558\n",
      "Epoch 6/2000\n",
      "3557/3557 [==============================] - 0s - loss: 0.0054 - acc: 0.7388 - mean_absolute_error: 0.0525 - val_loss: 0.0047 - val_acc: 0.7994 - val_mean_absolute_error: 0.0485\n",
      "Epoch 7/2000\n",
      "3557/3557 [==============================] - 0s - loss: 0.0042 - acc: 0.7734 - mean_absolute_error: 0.0453 - val_loss: 0.0037 - val_acc: 0.8169 - val_mean_absolute_error: 0.0418\n",
      "Epoch 8/2000\n",
      "3557/3557 [==============================] - 0s - loss: 0.0032 - acc: 0.8007 - mean_absolute_error: 0.0388 - val_loss: 0.0028 - val_acc: 0.8424 - val_mean_absolute_error: 0.0357\n",
      "Epoch 9/2000\n",
      "3557/3557 [==============================] - 0s - loss: 0.0024 - acc: 0.8232 - mean_absolute_error: 0.0334 - val_loss: 0.0022 - val_acc: 0.8599 - val_mean_absolute_error: 0.0312\n",
      "Epoch 10/2000\n",
      "3557/3557 [==============================] - 0s - loss: 0.0020 - acc: 0.8381 - mean_absolute_error: 0.0297 - val_loss: 0.0018 - val_acc: 0.8742 - val_mean_absolute_error: 0.0282\n",
      "Epoch 11/2000\n",
      "3557/3557 [==============================] - 0s - loss: 0.0016 - acc: 0.8507 - mean_absolute_error: 0.0270 - val_loss: 0.0015 - val_acc: 0.8869 - val_mean_absolute_error: 0.0254\n",
      "Epoch 12/2000\n",
      "3557/3557 [==============================] - 0s - loss: 0.0014 - acc: 0.8653 - mean_absolute_error: 0.0243 - val_loss: 0.0012 - val_acc: 0.8981 - val_mean_absolute_error: 0.0227\n",
      "Epoch 13/2000\n",
      "3557/3557 [==============================] - 0s - loss: 0.0011 - acc: 0.8845 - mean_absolute_error: 0.0218 - val_loss: 9.6777e-04 - val_acc: 0.9124 - val_mean_absolute_error: 0.0203\n",
      "Epoch 14/2000\n",
      "3557/3557 [==============================] - 0s - loss: 8.9253e-04 - acc: 0.9013 - mean_absolute_error: 0.0194 - val_loss: 7.7383e-04 - val_acc: 0.9331 - val_mean_absolute_error: 0.0179\n",
      "Epoch 15/2000\n",
      "3557/3557 [==============================] - 0s - loss: 7.0448e-04 - acc: 0.9143 - mean_absolute_error: 0.0171 - val_loss: 6.0686e-04 - val_acc: 0.9315 - val_mean_absolute_error: 0.0157\n",
      "Epoch 16/2000\n",
      "3557/3557 [==============================] - 0s - loss: 5.4586e-04 - acc: 0.9275 - mean_absolute_error: 0.0149 - val_loss: 4.6597e-04 - val_acc: 0.9443 - val_mean_absolute_error: 0.0137\n",
      "Epoch 17/2000\n",
      "3557/3557 [==============================] - 0s - loss: 4.0744e-04 - acc: 0.9325 - mean_absolute_error: 0.0129 - val_loss: 3.5096e-04 - val_acc: 0.9443 - val_mean_absolute_error: 0.0118\n",
      "Epoch 18/2000\n",
      "3557/3557 [==============================] - 0s - loss: 2.9439e-04 - acc: 0.9393 - mean_absolute_error: 0.0110 - val_loss: 2.6455e-04 - val_acc: 0.9490 - val_mean_absolute_error: 0.0101\n",
      "Epoch 19/2000\n",
      "3557/3557 [==============================] - 0s - loss: 2.2299e-04 - acc: 0.9460 - mean_absolute_error: 0.0095 - val_loss: 2.1803e-04 - val_acc: 0.9522 - val_mean_absolute_error: 0.0088\n",
      "Epoch 20/2000\n",
      "3557/3557 [==============================] - 0s - loss: 1.9209e-04 - acc: 0.9542 - mean_absolute_error: 0.0087 - val_loss: 2.0264e-04 - val_acc: 0.9506 - val_mean_absolute_error: 0.0083\n",
      "Epoch 21/2000\n",
      "3557/3557 [==============================] - 0s - loss: 1.8093e-04 - acc: 0.9522 - mean_absolute_error: 0.0083 - val_loss: 1.9769e-04 - val_acc: 0.9459 - val_mean_absolute_error: 0.0083\n",
      "Epoch 22/2000\n",
      "3557/3557 [==============================] - 0s - loss: 1.7616e-04 - acc: 0.9536 - mean_absolute_error: 0.0082 - val_loss: 1.9102e-04 - val_acc: 0.9538 - val_mean_absolute_error: 0.0081\n",
      "Epoch 23/2000\n",
      "3557/3557 [==============================] - 0s - loss: 1.7220e-04 - acc: 0.9575 - mean_absolute_error: 0.0081 - val_loss: 1.8734e-04 - val_acc: 0.9538 - val_mean_absolute_error: 0.0080\n",
      "Epoch 24/2000\n",
      "3557/3557 [==============================] - 0s - loss: 1.6923e-04 - acc: 0.9542 - mean_absolute_error: 0.0081 - val_loss: 1.8482e-04 - val_acc: 0.9490 - val_mean_absolute_error: 0.0080\n",
      "Epoch 25/2000\n",
      "3557/3557 [==============================] - 0s - loss: 1.6668e-04 - acc: 0.9547 - mean_absolute_error: 0.0080 - val_loss: 1.8206e-04 - val_acc: 0.9554 - val_mean_absolute_error: 0.0080\n",
      "Epoch 26/2000\n",
      "3557/3557 [==============================] - 0s - loss: 1.6398e-04 - acc: 0.9536 - mean_absolute_error: 0.0079 - val_loss: 1.7950e-04 - val_acc: 0.9522 - val_mean_absolute_error: 0.0079\n",
      "Epoch 27/2000\n",
      "3557/3557 [==============================] - 0s - loss: 1.6302e-04 - acc: 0.9553 - mean_absolute_error: 0.0080 - val_loss: 1.7619e-04 - val_acc: 0.9538 - val_mean_absolute_error: 0.0077\n",
      "Epoch 28/2000\n",
      "3557/3557 [==============================] - 0s - loss: 1.5905e-04 - acc: 0.9550 - mean_absolute_error: 0.0078 - val_loss: 1.7556e-04 - val_acc: 0.9538 - val_mean_absolute_error: 0.0079\n",
      "Epoch 29/2000\n",
      "3557/3557 [==============================] - 0s - loss: 1.5635e-04 - acc: 0.9559 - mean_absolute_error: 0.0078 - val_loss: 1.7443e-04 - val_acc: 0.9538 - val_mean_absolute_error: 0.0076\n",
      "Epoch 30/2000\n",
      "3557/3557 [==============================] - 0s - loss: 1.5413e-04 - acc: 0.9547 - mean_absolute_error: 0.0077 - val_loss: 1.6947e-04 - val_acc: 0.9554 - val_mean_absolute_error: 0.0078\n",
      "Epoch 31/2000\n",
      "3557/3557 [==============================] - 0s - loss: 1.5235e-04 - acc: 0.9570 - mean_absolute_error: 0.0077 - val_loss: 1.6828e-04 - val_acc: 0.9538 - val_mean_absolute_error: 0.0075\n",
      "Epoch 32/2000\n",
      "3557/3557 [==============================] - 0s - loss: 1.4988e-04 - acc: 0.9547 - mean_absolute_error: 0.0076 - val_loss: 1.6643e-04 - val_acc: 0.9506 - val_mean_absolute_error: 0.0077\n",
      "Epoch 33/2000\n",
      "3557/3557 [==============================] - 0s - loss: 1.4867e-04 - acc: 0.9553 - mean_absolute_error: 0.0076 - val_loss: 1.6388e-04 - val_acc: 0.9538 - val_mean_absolute_error: 0.0077\n",
      "Epoch 34/2000\n",
      "3557/3557 [==============================] - 0s - loss: 1.4621e-04 - acc: 0.9547 - mean_absolute_error: 0.0075 - val_loss: 1.6334e-04 - val_acc: 0.9554 - val_mean_absolute_error: 0.0077\n",
      "Epoch 35/2000\n",
      "3557/3557 [==============================] - 0s - loss: 1.4424e-04 - acc: 0.9525 - mean_absolute_error: 0.0075 - val_loss: 1.6036e-04 - val_acc: 0.9522 - val_mean_absolute_error: 0.0074\n",
      "Epoch 36/2000\n",
      "3557/3557 [==============================] - 0s - loss: 1.4225e-04 - acc: 0.9573 - mean_absolute_error: 0.0074 - val_loss: 1.5851e-04 - val_acc: 0.9522 - val_mean_absolute_error: 0.0073\n",
      "Epoch 37/2000\n",
      "3557/3557 [==============================] - 0s - loss: 1.4111e-04 - acc: 0.9567 - mean_absolute_error: 0.0074 - val_loss: 1.5680e-04 - val_acc: 0.9506 - val_mean_absolute_error: 0.0073\n",
      "Epoch 38/2000\n",
      "3557/3557 [==============================] - 0s - loss: 1.3906e-04 - acc: 0.9573 - mean_absolute_error: 0.0073 - val_loss: 1.5627e-04 - val_acc: 0.9538 - val_mean_absolute_error: 0.0074\n",
      "Epoch 39/2000\n",
      "3557/3557 [==============================] - 0s - loss: 1.3759e-04 - acc: 0.9575 - mean_absolute_error: 0.0073 - val_loss: 1.5619e-04 - val_acc: 0.9506 - val_mean_absolute_error: 0.0074\n",
      "Epoch 40/2000\n",
      "3557/3557 [==============================] - 0s - loss: 1.3660e-04 - acc: 0.9573 - mean_absolute_error: 0.0073 - val_loss: 1.5215e-04 - val_acc: 0.9522 - val_mean_absolute_error: 0.0072\n",
      "Epoch 41/2000\n",
      "3557/3557 [==============================] - 0s - loss: 1.3417e-04 - acc: 0.9561 - mean_absolute_error: 0.0072 - val_loss: 1.5309e-04 - val_acc: 0.9538 - val_mean_absolute_error: 0.0074\n",
      "Epoch 42/2000\n"
     ]
    },
    {
     "name": "stdout",
     "output_type": "stream",
     "text": [
      "3557/3557 [==============================] - 0s - loss: 1.3434e-04 - acc: 0.9559 - mean_absolute_error: 0.0072 - val_loss: 1.5205e-04 - val_acc: 0.9522 - val_mean_absolute_error: 0.0072\n",
      "Epoch 43/2000\n",
      "3557/3557 [==============================] - 0s - loss: 1.3231e-04 - acc: 0.9547 - mean_absolute_error: 0.0072 - val_loss: 1.4803e-04 - val_acc: 0.9586 - val_mean_absolute_error: 0.0070\n",
      "Epoch 44/2000\n",
      "3557/3557 [==============================] - 0s - loss: 1.3010e-04 - acc: 0.9567 - mean_absolute_error: 0.0071 - val_loss: 1.4903e-04 - val_acc: 0.9522 - val_mean_absolute_error: 0.0073\n",
      "Epoch 45/2000\n",
      "3557/3557 [==============================] - 0s - loss: 1.2911e-04 - acc: 0.9581 - mean_absolute_error: 0.0070 - val_loss: 1.4522e-04 - val_acc: 0.9602 - val_mean_absolute_error: 0.0072\n",
      "Epoch 46/2000\n",
      "3557/3557 [==============================] - 0s - loss: 1.2714e-04 - acc: 0.9584 - mean_absolute_error: 0.0070 - val_loss: 1.4562e-04 - val_acc: 0.9538 - val_mean_absolute_error: 0.0073\n",
      "Epoch 47/2000\n",
      "3557/3557 [==============================] - 0s - loss: 1.2646e-04 - acc: 0.9578 - mean_absolute_error: 0.0070 - val_loss: 1.4174e-04 - val_acc: 0.9522 - val_mean_absolute_error: 0.0071\n",
      "Epoch 48/2000\n",
      "3557/3557 [==============================] - 0s - loss: 1.2578e-04 - acc: 0.9587 - mean_absolute_error: 0.0070 - val_loss: 1.4349e-04 - val_acc: 0.9586 - val_mean_absolute_error: 0.0070\n",
      "Epoch 49/2000\n",
      "3557/3557 [==============================] - 0s - loss: 1.2369e-04 - acc: 0.9561 - mean_absolute_error: 0.0069 - val_loss: 1.4154e-04 - val_acc: 0.9602 - val_mean_absolute_error: 0.0071\n",
      "Epoch 50/2000\n",
      "3557/3557 [==============================] - 0s - loss: 1.2338e-04 - acc: 0.9575 - mean_absolute_error: 0.0069 - val_loss: 1.4166e-04 - val_acc: 0.9538 - val_mean_absolute_error: 0.0068\n",
      "Epoch 51/2000\n",
      "3557/3557 [==============================] - 0s - loss: 1.2182e-04 - acc: 0.9578 - mean_absolute_error: 0.0068 - val_loss: 1.3813e-04 - val_acc: 0.9538 - val_mean_absolute_error: 0.0069\n",
      "Epoch 52/2000\n",
      "3557/3557 [==============================] - 0s - loss: 1.2110e-04 - acc: 0.9598 - mean_absolute_error: 0.0068 - val_loss: 1.3852e-04 - val_acc: 0.9554 - val_mean_absolute_error: 0.0070\n",
      "Epoch 53/2000\n",
      "3557/3557 [==============================] - 0s - loss: 1.2134e-04 - acc: 0.9567 - mean_absolute_error: 0.0069 - val_loss: 1.3412e-04 - val_acc: 0.9522 - val_mean_absolute_error: 0.0068\n",
      "Epoch 54/2000\n",
      "3557/3557 [==============================] - 0s - loss: 1.1882e-04 - acc: 0.9567 - mean_absolute_error: 0.0067 - val_loss: 1.3489e-04 - val_acc: 0.9506 - val_mean_absolute_error: 0.0068\n",
      "Epoch 55/2000\n",
      "3557/3557 [==============================] - 0s - loss: 1.1825e-04 - acc: 0.9604 - mean_absolute_error: 0.0067 - val_loss: 1.3291e-04 - val_acc: 0.9554 - val_mean_absolute_error: 0.0068\n",
      "Epoch 56/2000\n",
      "3557/3557 [==============================] - 0s - loss: 1.1714e-04 - acc: 0.9601 - mean_absolute_error: 0.0067 - val_loss: 1.3333e-04 - val_acc: 0.9522 - val_mean_absolute_error: 0.0066\n",
      "Epoch 57/2000\n",
      "3557/3557 [==============================] - 0s - loss: 1.1732e-04 - acc: 0.9575 - mean_absolute_error: 0.0067 - val_loss: 1.3647e-04 - val_acc: 0.9522 - val_mean_absolute_error: 0.0068\n",
      "Epoch 58/2000\n",
      "3557/3557 [==============================] - 0s - loss: 1.1659e-04 - acc: 0.9581 - mean_absolute_error: 0.0067 - val_loss: 1.3078e-04 - val_acc: 0.9570 - val_mean_absolute_error: 0.0065\n",
      "Epoch 59/2000\n",
      "3557/3557 [==============================] - 0s - loss: 1.1468e-04 - acc: 0.9595 - mean_absolute_error: 0.0066 - val_loss: 1.3330e-04 - val_acc: 0.9554 - val_mean_absolute_error: 0.0067\n",
      "Epoch 60/2000\n",
      "3557/3557 [==============================] - 0s - loss: 1.1439e-04 - acc: 0.9612 - mean_absolute_error: 0.0066 - val_loss: 1.3105e-04 - val_acc: 0.9538 - val_mean_absolute_error: 0.0068\n",
      "Epoch 61/2000\n",
      "3557/3557 [==============================] - 0s - loss: 1.1406e-04 - acc: 0.9578 - mean_absolute_error: 0.0066 - val_loss: 1.3161e-04 - val_acc: 0.9522 - val_mean_absolute_error: 0.0067\n",
      "Epoch 62/2000\n",
      "3557/3557 [==============================] - 0s - loss: 1.1246e-04 - acc: 0.9575 - mean_absolute_error: 0.0065 - val_loss: 1.3039e-04 - val_acc: 0.9586 - val_mean_absolute_error: 0.0067\n",
      "Epoch 63/2000\n",
      "3557/3557 [==============================] - 0s - loss: 1.1175e-04 - acc: 0.9567 - mean_absolute_error: 0.0065 - val_loss: 1.2719e-04 - val_acc: 0.9650 - val_mean_absolute_error: 0.0065\n",
      "Epoch 64/2000\n",
      "3557/3557 [==============================] - 0s - loss: 1.1110e-04 - acc: 0.9578 - mean_absolute_error: 0.0065 - val_loss: 1.2713e-04 - val_acc: 0.9602 - val_mean_absolute_error: 0.0066\n",
      "Epoch 65/2000\n",
      "3557/3557 [==============================] - 0s - loss: 1.1086e-04 - acc: 0.9590 - mean_absolute_error: 0.0065 - val_loss: 1.2735e-04 - val_acc: 0.9506 - val_mean_absolute_error: 0.0066\n",
      "Epoch 66/2000\n",
      "3557/3557 [==============================] - 0s - loss: 1.0974e-04 - acc: 0.9575 - mean_absolute_error: 0.0065 - val_loss: 1.2692e-04 - val_acc: 0.9459 - val_mean_absolute_error: 0.0066\n",
      "Epoch 67/2000\n",
      "3557/3557 [==============================] - 0s - loss: 1.0937e-04 - acc: 0.9584 - mean_absolute_error: 0.0065 - val_loss: 1.2677e-04 - val_acc: 0.9586 - val_mean_absolute_error: 0.0067\n",
      "Epoch 68/2000\n",
      "3557/3557 [==============================] - 0s - loss: 1.0943e-04 - acc: 0.9570 - mean_absolute_error: 0.0065 - val_loss: 1.2547e-04 - val_acc: 0.9570 - val_mean_absolute_error: 0.0065\n",
      "Epoch 69/2000\n",
      "3557/3557 [==============================] - 0s - loss: 1.0903e-04 - acc: 0.9604 - mean_absolute_error: 0.0065 - val_loss: 1.2331e-04 - val_acc: 0.9570 - val_mean_absolute_error: 0.0064\n",
      "Epoch 70/2000\n",
      "3557/3557 [==============================] - 0s - loss: 1.0792e-04 - acc: 0.9590 - mean_absolute_error: 0.0064 - val_loss: 1.2208e-04 - val_acc: 0.9570 - val_mean_absolute_error: 0.0065\n",
      "Epoch 71/2000\n",
      "3557/3557 [==============================] - 0s - loss: 1.0798e-04 - acc: 0.9550 - mean_absolute_error: 0.0064 - val_loss: 1.2434e-04 - val_acc: 0.9602 - val_mean_absolute_error: 0.0065\n",
      "Epoch 72/2000\n",
      "3557/3557 [==============================] - 0s - loss: 1.0675e-04 - acc: 0.9573 - mean_absolute_error: 0.0064 - val_loss: 1.2276e-04 - val_acc: 0.9554 - val_mean_absolute_error: 0.0065\n",
      "Epoch 73/2000\n",
      "3557/3557 [==============================] - 0s - loss: 1.0639e-04 - acc: 0.9550 - mean_absolute_error: 0.0063 - val_loss: 1.2183e-04 - val_acc: 0.9538 - val_mean_absolute_error: 0.0063\n",
      "Epoch 74/2000\n",
      "3557/3557 [==============================] - 0s - loss: 1.0669e-04 - acc: 0.9604 - mean_absolute_error: 0.0064 - val_loss: 1.2350e-04 - val_acc: 0.9522 - val_mean_absolute_error: 0.0065\n",
      "Epoch 75/2000\n",
      "3557/3557 [==============================] - 0s - loss: 1.0595e-04 - acc: 0.9573 - mean_absolute_error: 0.0064 - val_loss: 1.2254e-04 - val_acc: 0.9570 - val_mean_absolute_error: 0.0065\n",
      "Epoch 76/2000\n",
      "3557/3557 [==============================] - 0s - loss: 1.0546e-04 - acc: 0.9578 - mean_absolute_error: 0.0063 - val_loss: 1.2263e-04 - val_acc: 0.9602 - val_mean_absolute_error: 0.0065\n",
      "Epoch 77/2000\n",
      "3557/3557 [==============================] - 0s - loss: 1.0479e-04 - acc: 0.9612 - mean_absolute_error: 0.0063 - val_loss: 1.1921e-04 - val_acc: 0.9554 - val_mean_absolute_error: 0.0063\n",
      "Epoch 78/2000\n",
      "3557/3557 [==============================] - 0s - loss: 1.0368e-04 - acc: 0.9547 - mean_absolute_error: 0.0063 - val_loss: 1.2035e-04 - val_acc: 0.9490 - val_mean_absolute_error: 0.0063\n",
      "Epoch 79/2000\n",
      "3557/3557 [==============================] - 0s - loss: 1.0380e-04 - acc: 0.9581 - mean_absolute_error: 0.0063 - val_loss: 1.2249e-04 - val_acc: 0.9570 - val_mean_absolute_error: 0.0065\n",
      "Epoch 80/2000\n",
      "3557/3557 [==============================] - 0s - loss: 1.0318e-04 - acc: 0.9567 - mean_absolute_error: 0.0062 - val_loss: 1.2050e-04 - val_acc: 0.9570 - val_mean_absolute_error: 0.0064\n",
      "Epoch 81/2000\n",
      "3557/3557 [==============================] - 0s - loss: 1.0339e-04 - acc: 0.9615 - mean_absolute_error: 0.0063 - val_loss: 1.1696e-04 - val_acc: 0.9570 - val_mean_absolute_error: 0.0062\n",
      "Epoch 82/2000\n",
      "3557/3557 [==============================] - 0s - loss: 1.0229e-04 - acc: 0.9536 - mean_absolute_error: 0.0062 - val_loss: 1.1792e-04 - val_acc: 0.9554 - val_mean_absolute_error: 0.0063\n",
      "Epoch 83/2000\n"
     ]
    },
    {
     "name": "stdout",
     "output_type": "stream",
     "text": [
      "3557/3557 [==============================] - 0s - loss: 1.0191e-04 - acc: 0.9581 - mean_absolute_error: 0.0062 - val_loss: 1.2088e-04 - val_acc: 0.9506 - val_mean_absolute_error: 0.0065\n",
      "Epoch 84/2000\n",
      "3557/3557 [==============================] - 0s - loss: 1.0260e-04 - acc: 0.9578 - mean_absolute_error: 0.0063 - val_loss: 1.1556e-04 - val_acc: 0.9522 - val_mean_absolute_error: 0.0063\n",
      "Epoch 85/2000\n",
      "3557/3557 [==============================] - 0s - loss: 1.0146e-04 - acc: 0.9587 - mean_absolute_error: 0.0062 - val_loss: 1.1785e-04 - val_acc: 0.9522 - val_mean_absolute_error: 0.0062\n",
      "Epoch 86/2000\n",
      "3557/3557 [==============================] - 0s - loss: 1.0241e-04 - acc: 0.9587 - mean_absolute_error: 0.0062 - val_loss: 1.1640e-04 - val_acc: 0.9570 - val_mean_absolute_error: 0.0064\n",
      "Epoch 87/2000\n",
      "3557/3557 [==============================] - 0s - loss: 1.0138e-04 - acc: 0.9561 - mean_absolute_error: 0.0062 - val_loss: 1.1692e-04 - val_acc: 0.9570 - val_mean_absolute_error: 0.0062\n",
      "Epoch 88/2000\n",
      "3557/3557 [==============================] - 0s - loss: 1.0064e-04 - acc: 0.9604 - mean_absolute_error: 0.0062 - val_loss: 1.1864e-04 - val_acc: 0.9570 - val_mean_absolute_error: 0.0063\n",
      "Epoch 89/2000\n",
      "3557/3557 [==============================] - 0s - loss: 1.0082e-04 - acc: 0.9584 - mean_absolute_error: 0.0062 - val_loss: 1.1576e-04 - val_acc: 0.9554 - val_mean_absolute_error: 0.0064\n",
      "Epoch 90/2000\n",
      "3557/3557 [==============================] - 0s - loss: 1.0063e-04 - acc: 0.9584 - mean_absolute_error: 0.0062 - val_loss: 1.1350e-04 - val_acc: 0.9538 - val_mean_absolute_error: 0.0061\n",
      "Epoch 91/2000\n",
      "3557/3557 [==============================] - 0s - loss: 9.8966e-05 - acc: 0.9590 - mean_absolute_error: 0.0061 - val_loss: 1.1495e-04 - val_acc: 0.9538 - val_mean_absolute_error: 0.0061\n",
      "Epoch 92/2000\n",
      "3557/3557 [==============================] - 0s - loss: 9.9258e-05 - acc: 0.9592 - mean_absolute_error: 0.0061 - val_loss: 1.1618e-04 - val_acc: 0.9602 - val_mean_absolute_error: 0.0062\n",
      "Epoch 93/2000\n",
      "3557/3557 [==============================] - 0s - loss: 9.9499e-05 - acc: 0.9609 - mean_absolute_error: 0.0061 - val_loss: 1.1537e-04 - val_acc: 0.9634 - val_mean_absolute_error: 0.0063\n",
      "Epoch 94/2000\n",
      "3557/3557 [==============================] - 0s - loss: 9.9716e-05 - acc: 0.9601 - mean_absolute_error: 0.0062 - val_loss: 1.1451e-04 - val_acc: 0.9570 - val_mean_absolute_error: 0.0061\n",
      "Epoch 95/2000\n",
      "3557/3557 [==============================] - 0s - loss: 9.8569e-05 - acc: 0.9606 - mean_absolute_error: 0.0061 - val_loss: 1.1543e-04 - val_acc: 0.9490 - val_mean_absolute_error: 0.0062\n",
      "Epoch 96/2000\n",
      "3557/3557 [==============================] - 0s - loss: 9.8961e-05 - acc: 0.9581 - mean_absolute_error: 0.0061 - val_loss: 1.1518e-04 - val_acc: 0.9602 - val_mean_absolute_error: 0.0062\n",
      "Epoch 97/2000\n",
      "3557/3557 [==============================] - 0s - loss: 9.8682e-05 - acc: 0.9590 - mean_absolute_error: 0.0061 - val_loss: 1.1480e-04 - val_acc: 0.9506 - val_mean_absolute_error: 0.0063\n",
      "Epoch 98/2000\n",
      "3557/3557 [==============================] - 0s - loss: 9.8363e-05 - acc: 0.9581 - mean_absolute_error: 0.0061 - val_loss: 1.1340e-04 - val_acc: 0.9554 - val_mean_absolute_error: 0.0062\n",
      "Epoch 99/2000\n",
      "3557/3557 [==============================] - 0s - loss: 9.8065e-05 - acc: 0.9592 - mean_absolute_error: 0.0061 - val_loss: 1.1351e-04 - val_acc: 0.9506 - val_mean_absolute_error: 0.0064\n",
      "Epoch 100/2000\n",
      "3557/3557 [==============================] - 0s - loss: 9.7184e-05 - acc: 0.9590 - mean_absolute_error: 0.0061 - val_loss: 1.1238e-04 - val_acc: 0.9554 - val_mean_absolute_error: 0.0061\n",
      "Epoch 101/2000\n",
      "3557/3557 [==============================] - 0s - loss: 9.7099e-05 - acc: 0.9587 - mean_absolute_error: 0.0061 - val_loss: 1.1157e-04 - val_acc: 0.9570 - val_mean_absolute_error: 0.0060\n",
      "Epoch 102/2000\n",
      "3557/3557 [==============================] - 0s - loss: 9.6693e-05 - acc: 0.9618 - mean_absolute_error: 0.0060 - val_loss: 1.1317e-04 - val_acc: 0.9650 - val_mean_absolute_error: 0.0061\n",
      "Epoch 103/2000\n",
      "3557/3557 [==============================] - 0s - loss: 9.6482e-05 - acc: 0.9629 - mean_absolute_error: 0.0060 - val_loss: 1.1249e-04 - val_acc: 0.9522 - val_mean_absolute_error: 0.0062\n",
      "Epoch 104/2000\n",
      "3557/3557 [==============================] - 0s - loss: 9.6280e-05 - acc: 0.9581 - mean_absolute_error: 0.0060 - val_loss: 1.1099e-04 - val_acc: 0.9586 - val_mean_absolute_error: 0.0061\n",
      "Epoch 105/2000\n",
      "3557/3557 [==============================] - 0s - loss: 9.6846e-05 - acc: 0.9618 - mean_absolute_error: 0.0060 - val_loss: 1.1183e-04 - val_acc: 0.9586 - val_mean_absolute_error: 0.0063\n",
      "Epoch 106/2000\n",
      "3557/3557 [==============================] - 0s - loss: 9.5881e-05 - acc: 0.9609 - mean_absolute_error: 0.0060 - val_loss: 1.1057e-04 - val_acc: 0.9570 - val_mean_absolute_error: 0.0059\n",
      "Epoch 107/2000\n",
      "3557/3557 [==============================] - 0s - loss: 9.5122e-05 - acc: 0.9584 - mean_absolute_error: 0.0060 - val_loss: 1.1153e-04 - val_acc: 0.9522 - val_mean_absolute_error: 0.0061\n",
      "Epoch 108/2000\n",
      "3557/3557 [==============================] - 0s - loss: 9.5387e-05 - acc: 0.9592 - mean_absolute_error: 0.0060 - val_loss: 1.1140e-04 - val_acc: 0.9570 - val_mean_absolute_error: 0.0061\n",
      "Epoch 109/2000\n",
      "3557/3557 [==============================] - 0s - loss: 9.5072e-05 - acc: 0.9592 - mean_absolute_error: 0.0060 - val_loss: 1.1155e-04 - val_acc: 0.9570 - val_mean_absolute_error: 0.0063\n",
      "Epoch 110/2000\n",
      "3557/3557 [==============================] - 0s - loss: 9.5100e-05 - acc: 0.9590 - mean_absolute_error: 0.0060 - val_loss: 1.0864e-04 - val_acc: 0.9554 - val_mean_absolute_error: 0.0060\n",
      "Epoch 111/2000\n",
      "3557/3557 [==============================] - 0s - loss: 9.4926e-05 - acc: 0.9575 - mean_absolute_error: 0.0060 - val_loss: 1.0839e-04 - val_acc: 0.9554 - val_mean_absolute_error: 0.0059\n",
      "Epoch 112/2000\n",
      "3557/3557 [==============================] - 0s - loss: 9.4969e-05 - acc: 0.9604 - mean_absolute_error: 0.0060 - val_loss: 1.0911e-04 - val_acc: 0.9554 - val_mean_absolute_error: 0.0060\n",
      "Epoch 113/2000\n",
      "3557/3557 [==============================] - 0s - loss: 9.4945e-05 - acc: 0.9598 - mean_absolute_error: 0.0060 - val_loss: 1.1595e-04 - val_acc: 0.9522 - val_mean_absolute_error: 0.0062\n",
      "Epoch 114/2000\n",
      "3557/3557 [==============================] - 0s - loss: 9.4171e-05 - acc: 0.9606 - mean_absolute_error: 0.0059 - val_loss: 1.0778e-04 - val_acc: 0.9538 - val_mean_absolute_error: 0.0061\n",
      "Epoch 115/2000\n",
      "3557/3557 [==============================] - 0s - loss: 9.4932e-05 - acc: 0.9573 - mean_absolute_error: 0.0060 - val_loss: 1.0893e-04 - val_acc: 0.9538 - val_mean_absolute_error: 0.0061\n",
      "Epoch 116/2000\n",
      "3557/3557 [==============================] - 0s - loss: 9.4628e-05 - acc: 0.9581 - mean_absolute_error: 0.0060 - val_loss: 1.0887e-04 - val_acc: 0.9554 - val_mean_absolute_error: 0.0063\n",
      "Epoch 117/2000\n",
      "3557/3557 [==============================] - 0s - loss: 9.4893e-05 - acc: 0.9632 - mean_absolute_error: 0.0060 - val_loss: 1.1034e-04 - val_acc: 0.9506 - val_mean_absolute_error: 0.0062\n",
      "Epoch 118/2000\n",
      "3557/3557 [==============================] - 0s - loss: 9.4429e-05 - acc: 0.9601 - mean_absolute_error: 0.0060 - val_loss: 1.0944e-04 - val_acc: 0.9618 - val_mean_absolute_error: 0.0060\n",
      "Epoch 119/2000\n",
      "3557/3557 [==============================] - 0s - loss: 9.3473e-05 - acc: 0.9581 - mean_absolute_error: 0.0059 - val_loss: 1.0780e-04 - val_acc: 0.9522 - val_mean_absolute_error: 0.0059\n",
      "Epoch 120/2000\n",
      "3557/3557 [==============================] - 0s - loss: 9.3196e-05 - acc: 0.9604 - mean_absolute_error: 0.0059 - val_loss: 1.0901e-04 - val_acc: 0.9538 - val_mean_absolute_error: 0.0060\n",
      "Epoch 121/2000\n",
      "3557/3557 [==============================] - 0s - loss: 9.4573e-05 - acc: 0.9567 - mean_absolute_error: 0.0060 - val_loss: 1.0918e-04 - val_acc: 0.9522 - val_mean_absolute_error: 0.0060\n",
      "Epoch 122/2000\n",
      "3557/3557 [==============================] - 0s - loss: 9.3657e-05 - acc: 0.9581 - mean_absolute_error: 0.0059 - val_loss: 1.0829e-04 - val_acc: 0.9570 - val_mean_absolute_error: 0.0060\n",
      "Epoch 123/2000\n"
     ]
    },
    {
     "name": "stdout",
     "output_type": "stream",
     "text": [
      "3557/3557 [==============================] - 0s - loss: 9.3185e-05 - acc: 0.9595 - mean_absolute_error: 0.0059 - val_loss: 1.1097e-04 - val_acc: 0.9490 - val_mean_absolute_error: 0.0061\n",
      "Epoch 124/2000\n",
      "3557/3557 [==============================] - 0s - loss: 9.3539e-05 - acc: 0.9598 - mean_absolute_error: 0.0060 - val_loss: 1.0981e-04 - val_acc: 0.9554 - val_mean_absolute_error: 0.0063\n",
      "Epoch 125/2000\n",
      "3557/3557 [==============================] - 0s - loss: 9.3679e-05 - acc: 0.9620 - mean_absolute_error: 0.0060 - val_loss: 1.0693e-04 - val_acc: 0.9570 - val_mean_absolute_error: 0.0061\n",
      "Epoch 126/2000\n",
      "3557/3557 [==============================] - 0s - loss: 9.2669e-05 - acc: 0.9590 - mean_absolute_error: 0.0059 - val_loss: 1.1027e-04 - val_acc: 0.9538 - val_mean_absolute_error: 0.0064\n",
      "Epoch 127/2000\n",
      "3557/3557 [==============================] - 0s - loss: 9.3238e-05 - acc: 0.9595 - mean_absolute_error: 0.0059 - val_loss: 1.0889e-04 - val_acc: 0.9490 - val_mean_absolute_error: 0.0062\n",
      "Epoch 128/2000\n",
      "3557/3557 [==============================] - 0s - loss: 9.2709e-05 - acc: 0.9587 - mean_absolute_error: 0.0059 - val_loss: 1.0826e-04 - val_acc: 0.9538 - val_mean_absolute_error: 0.0062\n",
      "Epoch 129/2000\n",
      "3557/3557 [==============================] - 0s - loss: 9.2237e-05 - acc: 0.9615 - mean_absolute_error: 0.0059 - val_loss: 1.0801e-04 - val_acc: 0.9570 - val_mean_absolute_error: 0.0060\n",
      "Epoch 130/2000\n",
      "3557/3557 [==============================] - 0s - loss: 9.3041e-05 - acc: 0.9575 - mean_absolute_error: 0.0059 - val_loss: 1.0580e-04 - val_acc: 0.9602 - val_mean_absolute_error: 0.0059\n",
      "Epoch 131/2000\n",
      "3557/3557 [==============================] - 0s - loss: 9.2333e-05 - acc: 0.9615 - mean_absolute_error: 0.0059 - val_loss: 1.0730e-04 - val_acc: 0.9570 - val_mean_absolute_error: 0.0059\n",
      "Epoch 132/2000\n",
      "3557/3557 [==============================] - 0s - loss: 9.1360e-05 - acc: 0.9604 - mean_absolute_error: 0.0058 - val_loss: 1.0621e-04 - val_acc: 0.9522 - val_mean_absolute_error: 0.0061\n",
      "Epoch 133/2000\n",
      "3557/3557 [==============================] - 0s - loss: 9.3360e-05 - acc: 0.9595 - mean_absolute_error: 0.0060 - val_loss: 1.0639e-04 - val_acc: 0.9538 - val_mean_absolute_error: 0.0061\n",
      "Epoch 134/2000\n",
      "3557/3557 [==============================] - 0s - loss: 9.1430e-05 - acc: 0.9570 - mean_absolute_error: 0.0059 - val_loss: 1.0303e-04 - val_acc: 0.9586 - val_mean_absolute_error: 0.0057\n",
      "Epoch 135/2000\n",
      "3557/3557 [==============================] - 0s - loss: 9.2066e-05 - acc: 0.9575 - mean_absolute_error: 0.0059 - val_loss: 1.0484e-04 - val_acc: 0.9538 - val_mean_absolute_error: 0.0060\n",
      "Epoch 136/2000\n",
      "3557/3557 [==============================] - 0s - loss: 9.0651e-05 - acc: 0.9587 - mean_absolute_error: 0.0058 - val_loss: 1.1012e-04 - val_acc: 0.9554 - val_mean_absolute_error: 0.0063\n",
      "Epoch 137/2000\n",
      "3557/3557 [==============================] - 0s - loss: 9.1011e-05 - acc: 0.9598 - mean_absolute_error: 0.0058 - val_loss: 1.0896e-04 - val_acc: 0.9490 - val_mean_absolute_error: 0.0063\n",
      "Epoch 138/2000\n",
      "3557/3557 [==============================] - 0s - loss: 9.1424e-05 - acc: 0.9606 - mean_absolute_error: 0.0059 - val_loss: 1.0509e-04 - val_acc: 0.9538 - val_mean_absolute_error: 0.0060\n",
      "Epoch 139/2000\n",
      "3557/3557 [==============================] - 0s - loss: 9.1159e-05 - acc: 0.9564 - mean_absolute_error: 0.0059 - val_loss: 1.0867e-04 - val_acc: 0.9650 - val_mean_absolute_error: 0.0060\n",
      "Epoch 140/2000\n",
      "3557/3557 [==============================] - 0s - loss: 9.1026e-05 - acc: 0.9601 - mean_absolute_error: 0.0059 - val_loss: 1.0274e-04 - val_acc: 0.9634 - val_mean_absolute_error: 0.0058\n",
      "Epoch 141/2000\n",
      "3557/3557 [==============================] - 0s - loss: 9.0732e-05 - acc: 0.9584 - mean_absolute_error: 0.0058 - val_loss: 1.0729e-04 - val_acc: 0.9554 - val_mean_absolute_error: 0.0062\n",
      "Epoch 142/2000\n",
      "3557/3557 [==============================] - 0s - loss: 9.0701e-05 - acc: 0.9581 - mean_absolute_error: 0.0058 - val_loss: 1.0286e-04 - val_acc: 0.9554 - val_mean_absolute_error: 0.0058\n",
      "Epoch 143/2000\n",
      "3557/3557 [==============================] - 0s - loss: 9.0980e-05 - acc: 0.9564 - mean_absolute_error: 0.0059 - val_loss: 1.0708e-04 - val_acc: 0.9602 - val_mean_absolute_error: 0.0058\n",
      "Epoch 144/2000\n",
      "3557/3557 [==============================] - 0s - loss: 9.0014e-05 - acc: 0.9581 - mean_absolute_error: 0.0058 - val_loss: 1.0355e-04 - val_acc: 0.9554 - val_mean_absolute_error: 0.0058\n",
      "Epoch 145/2000\n",
      "3557/3557 [==============================] - 0s - loss: 9.0143e-05 - acc: 0.9559 - mean_absolute_error: 0.0058 - val_loss: 1.0416e-04 - val_acc: 0.9570 - val_mean_absolute_error: 0.0058\n",
      "Epoch 146/2000\n",
      "3557/3557 [==============================] - 0s - loss: 8.9630e-05 - acc: 0.9626 - mean_absolute_error: 0.0058 - val_loss: 1.0663e-04 - val_acc: 0.9506 - val_mean_absolute_error: 0.0063\n",
      "Epoch 147/2000\n",
      "3557/3557 [==============================] - 0s - loss: 9.0169e-05 - acc: 0.9581 - mean_absolute_error: 0.0059 - val_loss: 1.0803e-04 - val_acc: 0.9490 - val_mean_absolute_error: 0.0061\n",
      "Epoch 148/2000\n",
      "3557/3557 [==============================] - 0s - loss: 9.0056e-05 - acc: 0.9567 - mean_absolute_error: 0.0058 - val_loss: 1.0195e-04 - val_acc: 0.9570 - val_mean_absolute_error: 0.0057\n",
      "Epoch 149/2000\n",
      "3557/3557 [==============================] - 0s - loss: 8.9623e-05 - acc: 0.9573 - mean_absolute_error: 0.0058 - val_loss: 1.0173e-04 - val_acc: 0.9570 - val_mean_absolute_error: 0.0058\n",
      "Epoch 150/2000\n",
      "3557/3557 [==============================] - 0s - loss: 9.0871e-05 - acc: 0.9601 - mean_absolute_error: 0.0059 - val_loss: 1.0507e-04 - val_acc: 0.9586 - val_mean_absolute_error: 0.0061\n",
      "Epoch 151/2000\n",
      "3557/3557 [==============================] - 0s - loss: 9.0123e-05 - acc: 0.9584 - mean_absolute_error: 0.0058 - val_loss: 1.0571e-04 - val_acc: 0.9522 - val_mean_absolute_error: 0.0060\n",
      "Epoch 152/2000\n",
      "3557/3557 [==============================] - 0s - loss: 8.9971e-05 - acc: 0.9598 - mean_absolute_error: 0.0058 - val_loss: 1.0459e-04 - val_acc: 0.9586 - val_mean_absolute_error: 0.0060\n",
      "Epoch 153/2000\n",
      "3557/3557 [==============================] - 0s - loss: 8.9625e-05 - acc: 0.9581 - mean_absolute_error: 0.0058 - val_loss: 1.0238e-04 - val_acc: 0.9602 - val_mean_absolute_error: 0.0058\n",
      "Epoch 154/2000\n",
      "3557/3557 [==============================] - 0s - loss: 8.9263e-05 - acc: 0.9581 - mean_absolute_error: 0.0058 - val_loss: 1.0284e-04 - val_acc: 0.9506 - val_mean_absolute_error: 0.0060\n",
      "Epoch 155/2000\n",
      "3557/3557 [==============================] - 0s - loss: 8.8341e-05 - acc: 0.9595 - mean_absolute_error: 0.0058 - val_loss: 1.0533e-04 - val_acc: 0.9506 - val_mean_absolute_error: 0.0062\n",
      "Epoch 156/2000\n",
      "3557/3557 [==============================] - 0s - loss: 9.0058e-05 - acc: 0.9598 - mean_absolute_error: 0.0059 - val_loss: 1.0449e-04 - val_acc: 0.9538 - val_mean_absolute_error: 0.0059\n",
      "Epoch 157/2000\n",
      "3557/3557 [==============================] - 0s - loss: 8.9284e-05 - acc: 0.9590 - mean_absolute_error: 0.0058 - val_loss: 1.0232e-04 - val_acc: 0.9570 - val_mean_absolute_error: 0.0059\n",
      "Epoch 158/2000\n",
      "3557/3557 [==============================] - 0s - loss: 8.9074e-05 - acc: 0.9592 - mean_absolute_error: 0.0058 - val_loss: 1.0154e-04 - val_acc: 0.9602 - val_mean_absolute_error: 0.0058\n",
      "Epoch 159/2000\n",
      "3557/3557 [==============================] - 0s - loss: 8.9259e-05 - acc: 0.9570 - mean_absolute_error: 0.0058 - val_loss: 1.0429e-04 - val_acc: 0.9554 - val_mean_absolute_error: 0.0061\n",
      "Epoch 160/2000\n",
      "3557/3557 [==============================] - 0s - loss: 8.8592e-05 - acc: 0.9584 - mean_absolute_error: 0.0058 - val_loss: 1.0274e-04 - val_acc: 0.9506 - val_mean_absolute_error: 0.0059\n",
      "Epoch 161/2000\n",
      "3557/3557 [==============================] - 0s - loss: 8.9888e-05 - acc: 0.9606 - mean_absolute_error: 0.0058 - val_loss: 1.0290e-04 - val_acc: 0.9586 - val_mean_absolute_error: 0.0058\n",
      "Epoch 162/2000\n",
      "3557/3557 [==============================] - 0s - loss: 8.8368e-05 - acc: 0.9575 - mean_absolute_error: 0.0058 - val_loss: 1.0218e-04 - val_acc: 0.9602 - val_mean_absolute_error: 0.0058\n",
      "Epoch 163/2000\n"
     ]
    },
    {
     "name": "stdout",
     "output_type": "stream",
     "text": [
      "3557/3557 [==============================] - 0s - loss: 8.7996e-05 - acc: 0.9612 - mean_absolute_error: 0.0057 - val_loss: 1.0733e-04 - val_acc: 0.9506 - val_mean_absolute_error: 0.0061\n",
      "Epoch 164/2000\n",
      "3557/3557 [==============================] - 0s - loss: 8.8586e-05 - acc: 0.9598 - mean_absolute_error: 0.0058 - val_loss: 1.0332e-04 - val_acc: 0.9554 - val_mean_absolute_error: 0.0060\n",
      "Epoch 165/2000\n",
      "3557/3557 [==============================] - 0s - loss: 8.8694e-05 - acc: 0.9570 - mean_absolute_error: 0.0058 - val_loss: 1.0764e-04 - val_acc: 0.9602 - val_mean_absolute_error: 0.0059\n",
      "Epoch 166/2000\n",
      "3557/3557 [==============================] - 0s - loss: 8.8419e-05 - acc: 0.9590 - mean_absolute_error: 0.0058 - val_loss: 1.0229e-04 - val_acc: 0.9554 - val_mean_absolute_error: 0.0058\n",
      "Epoch 167/2000\n",
      "3557/3557 [==============================] - 0s - loss: 8.8760e-05 - acc: 0.9606 - mean_absolute_error: 0.0058 - val_loss: 1.0245e-04 - val_acc: 0.9475 - val_mean_absolute_error: 0.0059\n",
      "Epoch 168/2000\n",
      "3557/3557 [==============================] - 0s - loss: 8.8015e-05 - acc: 0.9581 - mean_absolute_error: 0.0057 - val_loss: 1.0274e-04 - val_acc: 0.9586 - val_mean_absolute_error: 0.0059\n",
      "Epoch 169/2000\n",
      "3557/3557 [==============================] - 0s - loss: 8.8781e-05 - acc: 0.9601 - mean_absolute_error: 0.0058 - val_loss: 1.0082e-04 - val_acc: 0.9506 - val_mean_absolute_error: 0.0058\n",
      "Epoch 170/2000\n",
      "3557/3557 [==============================] - 0s - loss: 8.8226e-05 - acc: 0.9615 - mean_absolute_error: 0.0058 - val_loss: 1.0237e-04 - val_acc: 0.9554 - val_mean_absolute_error: 0.0060\n",
      "Epoch 171/2000\n",
      "3557/3557 [==============================] - 0s - loss: 8.8137e-05 - acc: 0.9590 - mean_absolute_error: 0.0058 - val_loss: 1.0260e-04 - val_acc: 0.9586 - val_mean_absolute_error: 0.0059\n",
      "Epoch 172/2000\n",
      "3557/3557 [==============================] - 0s - loss: 8.8087e-05 - acc: 0.9592 - mean_absolute_error: 0.0058 - val_loss: 1.0283e-04 - val_acc: 0.9618 - val_mean_absolute_error: 0.0059\n",
      "Epoch 173/2000\n",
      "3557/3557 [==============================] - 0s - loss: 8.8827e-05 - acc: 0.9567 - mean_absolute_error: 0.0058 - val_loss: 1.0059e-04 - val_acc: 0.9522 - val_mean_absolute_error: 0.0058\n",
      "Epoch 174/2000\n",
      "3557/3557 [==============================] - 0s - loss: 8.8132e-05 - acc: 0.9584 - mean_absolute_error: 0.0058 - val_loss: 1.0174e-04 - val_acc: 0.9522 - val_mean_absolute_error: 0.0058\n",
      "Epoch 175/2000\n",
      "3557/3557 [==============================] - 0s - loss: 8.7263e-05 - acc: 0.9559 - mean_absolute_error: 0.0057 - val_loss: 1.0143e-04 - val_acc: 0.9490 - val_mean_absolute_error: 0.0058\n",
      "Epoch 176/2000\n",
      "3557/3557 [==============================] - 0s - loss: 8.7783e-05 - acc: 0.9578 - mean_absolute_error: 0.0058 - val_loss: 1.0243e-04 - val_acc: 0.9538 - val_mean_absolute_error: 0.0059\n",
      "Epoch 177/2000\n",
      "3557/3557 [==============================] - 0s - loss: 8.7111e-05 - acc: 0.9623 - mean_absolute_error: 0.0057 - val_loss: 1.0354e-04 - val_acc: 0.9522 - val_mean_absolute_error: 0.0059\n",
      "Epoch 178/2000\n",
      "3557/3557 [==============================] - 0s - loss: 8.7921e-05 - acc: 0.9570 - mean_absolute_error: 0.0058 - val_loss: 1.0052e-04 - val_acc: 0.9522 - val_mean_absolute_error: 0.0059\n",
      "Epoch 179/2000\n",
      "3557/3557 [==============================] - 0s - loss: 8.8506e-05 - acc: 0.9559 - mean_absolute_error: 0.0058 - val_loss: 1.0220e-04 - val_acc: 0.9586 - val_mean_absolute_error: 0.0058\n",
      "Epoch 180/2000\n",
      "3557/3557 [==============================] - 0s - loss: 8.7093e-05 - acc: 0.9561 - mean_absolute_error: 0.0057 - val_loss: 9.9317e-05 - val_acc: 0.9618 - val_mean_absolute_error: 0.0057\n",
      "Epoch 181/2000\n",
      "3557/3557 [==============================] - 0s - loss: 8.7639e-05 - acc: 0.9570 - mean_absolute_error: 0.0057 - val_loss: 9.9968e-05 - val_acc: 0.9554 - val_mean_absolute_error: 0.0057\n",
      "Epoch 182/2000\n",
      "3557/3557 [==============================] - 0s - loss: 8.7697e-05 - acc: 0.9590 - mean_absolute_error: 0.0058 - val_loss: 1.0190e-04 - val_acc: 0.9586 - val_mean_absolute_error: 0.0057\n",
      "Epoch 183/2000\n",
      "3557/3557 [==============================] - 0s - loss: 8.6865e-05 - acc: 0.9618 - mean_absolute_error: 0.0057 - val_loss: 1.0019e-04 - val_acc: 0.9554 - val_mean_absolute_error: 0.0057\n",
      "Epoch 184/2000\n",
      "3557/3557 [==============================] - 0s - loss: 8.6989e-05 - acc: 0.9595 - mean_absolute_error: 0.0057 - val_loss: 1.0023e-04 - val_acc: 0.9586 - val_mean_absolute_error: 0.0057\n",
      "Epoch 185/2000\n",
      "3557/3557 [==============================] - 0s - loss: 8.7564e-05 - acc: 0.9592 - mean_absolute_error: 0.0058 - val_loss: 9.8047e-05 - val_acc: 0.9570 - val_mean_absolute_error: 0.0055\n",
      "Epoch 186/2000\n",
      "3557/3557 [==============================] - 0s - loss: 8.6754e-05 - acc: 0.9618 - mean_absolute_error: 0.0057 - val_loss: 1.0386e-04 - val_acc: 0.9506 - val_mean_absolute_error: 0.0060\n",
      "Epoch 187/2000\n",
      "3557/3557 [==============================] - 0s - loss: 8.6768e-05 - acc: 0.9609 - mean_absolute_error: 0.0057 - val_loss: 1.0428e-04 - val_acc: 0.9475 - val_mean_absolute_error: 0.0060\n",
      "Epoch 188/2000\n",
      "3557/3557 [==============================] - 0s - loss: 8.7737e-05 - acc: 0.9561 - mean_absolute_error: 0.0058 - val_loss: 1.0363e-04 - val_acc: 0.9522 - val_mean_absolute_error: 0.0059\n",
      "Epoch 189/2000\n",
      "3557/3557 [==============================] - 0s - loss: 8.7187e-05 - acc: 0.9612 - mean_absolute_error: 0.0057 - val_loss: 1.0050e-04 - val_acc: 0.9570 - val_mean_absolute_error: 0.0059\n",
      "Epoch 190/2000\n",
      "3557/3557 [==============================] - 0s - loss: 8.6347e-05 - acc: 0.9584 - mean_absolute_error: 0.0057 - val_loss: 9.8962e-05 - val_acc: 0.9538 - val_mean_absolute_error: 0.0056\n",
      "Epoch 191/2000\n",
      "3557/3557 [==============================] - 0s - loss: 8.7009e-05 - acc: 0.9595 - mean_absolute_error: 0.0057 - val_loss: 1.0075e-04 - val_acc: 0.9506 - val_mean_absolute_error: 0.0060\n",
      "Epoch 192/2000\n",
      "3557/3557 [==============================] - 0s - loss: 8.7176e-05 - acc: 0.9595 - mean_absolute_error: 0.0058 - val_loss: 9.9130e-05 - val_acc: 0.9554 - val_mean_absolute_error: 0.0057\n",
      "Epoch 193/2000\n",
      "3557/3557 [==============================] - 0s - loss: 8.7009e-05 - acc: 0.9595 - mean_absolute_error: 0.0057 - val_loss: 1.0088e-04 - val_acc: 0.9602 - val_mean_absolute_error: 0.0057\n",
      "Epoch 194/2000\n",
      "3557/3557 [==============================] - 0s - loss: 8.6663e-05 - acc: 0.9601 - mean_absolute_error: 0.0057 - val_loss: 9.9224e-05 - val_acc: 0.9602 - val_mean_absolute_error: 0.0058\n",
      "Epoch 195/2000\n",
      "3557/3557 [==============================] - 0s - loss: 8.6466e-05 - acc: 0.9592 - mean_absolute_error: 0.0057 - val_loss: 9.9751e-05 - val_acc: 0.9586 - val_mean_absolute_error: 0.0058\n",
      "Epoch 196/2000\n",
      "3557/3557 [==============================] - 0s - loss: 8.6878e-05 - acc: 0.9575 - mean_absolute_error: 0.0057 - val_loss: 1.0031e-04 - val_acc: 0.9522 - val_mean_absolute_error: 0.0059\n",
      "Time to fit model: 15.0159029961 seconds\n"
     ]
    }
   ],
   "source": [
    "earlyStopping = EarlyStopping(monitor = 'val_loss', patience = 10, mode = 'auto')\n",
    "\n",
    "init_time = time.time()\n",
    "\n",
    "fitHistory = autoencoder2.fit(xTrainEncoded1, \n",
    "                              xTrainEncoded1, \n",
    "                              epochs = 2000,\n",
    "                              verbose = 1,\n",
    "                              shuffle = True,\n",
    "                              validation_data = (xValEncoded1, xValEncoded1), \n",
    "                              callbacks = [earlyStopping])\n",
    "\n",
    "end_time = time.time()\n",
    "\n",
    "print('Time to fit model: '+str(end_time-init_time)+' seconds')"
   ]
  },
  {
   "cell_type": "code",
   "execution_count": 33,
   "metadata": {},
   "outputs": [
    {
     "data": {
      "text/plain": [
       "<matplotlib.legend.Legend at 0xcf0fb50>"
      ]
     },
     "execution_count": 33,
     "metadata": {},
     "output_type": "execute_result"
    },
    {
     "data": {
      "image/png": "[encoded data removed]",
      "text/plain": [
       "<matplotlib.figure.Figure at 0xd12dd10>"
      ]
     },
     "metadata": {},
     "output_type": "display_data"
    }
   ],
   "source": [
    "fig, ax = plt.subplots(figsize = (10,10), nrows = 1, ncols = 1)\n",
    "ax.set_title('RMSE per epoch')\n",
    "ax.set_xlabel('Epoch')\n",
    "ax.set_ylabel('RMSE')\n",
    "trainigSet, = ax.plot(np.sqrt(fitHistory.history['loss']), 'b', label = 'trainig set')\n",
    "validationSet, = ax.plot(np.sqrt(fitHistory.history['val_loss']), 'r', label = 'validation set')\n",
    "plt.legend(handles=[trainigSet, validationSet], labels=['training set', 'validation set'], prop={'size': 15})\n",
    "#fig.savefig('{}/{}.{}'.format(saveFigDir, 'RMSE_per_epoch_autoencoder_30_40', 'pdf'), bbox_inches='tight')"
   ]
  },
  {
   "cell_type": "markdown",
   "metadata": {},
   "source": [
    "## Extracting autoencoder2 first layer to be used as encoder2"
   ]
  },
  {
   "cell_type": "code",
   "execution_count": 34,
   "metadata": {},
   "outputs": [
    {
     "name": "stdout",
     "output_type": "stream",
     "text": [
      "_________________________________________________________________\n",
      "Layer (type)                 Output Shape              Param #   \n",
      "=================================================================\n",
      "dense_9 (Dense)              (None, 20)                420       \n",
      "=================================================================\n",
      "Total params: 420\n",
      "Trainable params: 420\n",
      "Non-trainable params: 0\n",
      "_________________________________________________________________\n"
     ]
    }
   ],
   "source": [
    "encoder2layer = autoencoder2.get_layer(index=1)\n",
    "encoder2 = Sequential([encoder2layer])\n",
    "encoder2.compile(optimizer = 'adam', loss='mse')\n",
    "encoder2.summary()"
   ]
  },
  {
   "cell_type": "markdown",
   "metadata": {},
   "source": [
    "## Encoding data for use as input in the next autoencoder "
   ]
  },
  {
   "cell_type": "code",
   "execution_count": 37,
   "metadata": {},
   "outputs": [],
   "source": [
    "xTrainEncoded2 = encoder2.predict(xTrainEncoded1)\n",
    "xValEncoded2 = encoder2.predict(xValEncoded1)"
   ]
  },
  {
   "cell_type": "markdown",
   "metadata": {},
   "source": [
    "## Creating another autoencoder, for third layer "
   ]
  },
  {
   "cell_type": "code",
   "execution_count": 40,
   "metadata": {},
   "outputs": [
    {
     "name": "stdout",
     "output_type": "stream",
     "text": [
      "_________________________________________________________________\n",
      "Layer (type)                 Output Shape              Param #   \n",
      "=================================================================\n",
      "dense_13 (Dense)             (None, 10)                210       \n",
      "_________________________________________________________________\n",
      "dense_14 (Dense)             (None, 20)                220       \n",
      "=================================================================\n",
      "Total params: 430\n",
      "Trainable params: 430\n",
      "Non-trainable params: 0\n",
      "_________________________________________________________________\n"
     ]
    }
   ],
   "source": [
    "inputDim = len(xTrainEncoded2[1])\n",
    "\n",
    "autoencoder3 = Sequential([\n",
    "                           Dense(10, activation = 'tanh', kernel_initializer = 'uniform', input_dim = inputDim),\n",
    "                           Dense(inputDim, activation = 'tanh', kernel_initializer = 'uniform')\n",
    "                          ])\n",
    "\n",
    "#SGD = optimizers.SGD(lr=0.5, momentum=0.00, decay=0.0, nesterov=False)\n",
    "\n",
    "autoencoder3.compile(optimizer = 'adam', loss='mse', metrics=['accuracy', 'mae'])\n",
    "autoencoder3.summary()"
   ]
  },
  {
   "cell_type": "code",
   "execution_count": 41,
   "metadata": {},
   "outputs": [
    {
     "name": "stdout",
     "output_type": "stream",
     "text": [
      "Train on 3557 samples, validate on 628 samples\n",
      "Epoch 1/2000\n",
      "3557/3557 [==============================] - 0s - loss: 0.0169 - acc: 0.2676 - mean_absolute_error: 0.1025 - val_loss: 0.0113 - val_acc: 0.3121 - val_mean_absolute_error: 0.0820\n",
      "Epoch 2/2000\n",
      "3557/3557 [==============================] - 0s - loss: 0.0107 - acc: 0.3492 - mean_absolute_error: 0.0793 - val_loss: 0.0094 - val_acc: 0.4124 - val_mean_absolute_error: 0.0742\n",
      "Epoch 3/2000\n",
      "3557/3557 [==============================] - 0s - loss: 0.0089 - acc: 0.4397 - mean_absolute_error: 0.0720 - val_loss: 0.0075 - val_acc: 0.5191 - val_mean_absolute_error: 0.0655\n",
      "Epoch 4/2000\n",
      "3557/3557 [==============================] - 0s - loss: 0.0069 - acc: 0.5412 - mean_absolute_error: 0.0629 - val_loss: 0.0059 - val_acc: 0.5780 - val_mean_absolute_error: 0.0571\n",
      "Epoch 5/2000\n",
      "3557/3557 [==============================] - 0s - loss: 0.0056 - acc: 0.5890 - mean_absolute_error: 0.0554 - val_loss: 0.0049 - val_acc: 0.6131 - val_mean_absolute_error: 0.0514\n",
      "Epoch 6/2000\n",
      "3557/3557 [==============================] - 0s - loss: 0.0048 - acc: 0.6030 - mean_absolute_error: 0.0508 - val_loss: 0.0043 - val_acc: 0.6274 - val_mean_absolute_error: 0.0478\n",
      "Epoch 7/2000\n",
      "3557/3557 [==============================] - 0s - loss: 0.0043 - acc: 0.6174 - mean_absolute_error: 0.0477 - val_loss: 0.0039 - val_acc: 0.6322 - val_mean_absolute_error: 0.0454\n",
      "Epoch 8/2000\n",
      "3557/3557 [==============================] - 0s - loss: 0.0039 - acc: 0.6300 - mean_absolute_error: 0.0456 - val_loss: 0.0037 - val_acc: 0.6417 - val_mean_absolute_error: 0.0441\n",
      "Epoch 9/2000\n",
      "3557/3557 [==============================] - 0s - loss: 0.0038 - acc: 0.6410 - mean_absolute_error: 0.0446 - val_loss: 0.0036 - val_acc: 0.6576 - val_mean_absolute_error: 0.0435\n",
      "Epoch 10/2000\n",
      "3557/3557 [==============================] - 0s - loss: 0.0037 - acc: 0.6469 - mean_absolute_error: 0.0441 - val_loss: 0.0036 - val_acc: 0.6561 - val_mean_absolute_error: 0.0433\n",
      "Epoch 11/2000\n",
      "3557/3557 [==============================] - 0s - loss: 0.0037 - acc: 0.6511 - mean_absolute_error: 0.0438 - val_loss: 0.0035 - val_acc: 0.6561 - val_mean_absolute_error: 0.0430\n",
      "Epoch 12/2000\n",
      "3557/3557 [==============================] - 0s - loss: 0.0036 - acc: 0.6548 - mean_absolute_error: 0.0436 - val_loss: 0.0035 - val_acc: 0.6608 - val_mean_absolute_error: 0.0428\n",
      "Epoch 13/2000\n",
      "3557/3557 [==============================] - 0s - loss: 0.0036 - acc: 0.6542 - mean_absolute_error: 0.0435 - val_loss: 0.0035 - val_acc: 0.6608 - val_mean_absolute_error: 0.0427\n",
      "Epoch 14/2000\n",
      "3557/3557 [==============================] - 0s - loss: 0.0036 - acc: 0.6570 - mean_absolute_error: 0.0433 - val_loss: 0.0035 - val_acc: 0.6624 - val_mean_absolute_error: 0.0426\n",
      "Epoch 15/2000\n",
      "3557/3557 [==============================] - 0s - loss: 0.0036 - acc: 0.6573 - mean_absolute_error: 0.0432 - val_loss: 0.0035 - val_acc: 0.6672 - val_mean_absolute_error: 0.0425\n",
      "Epoch 16/2000\n",
      "3557/3557 [==============================] - 0s - loss: 0.0036 - acc: 0.6638 - mean_absolute_error: 0.0431 - val_loss: 0.0034 - val_acc: 0.6672 - val_mean_absolute_error: 0.0424\n",
      "Epoch 17/2000\n",
      "3557/3557 [==============================] - 0s - loss: 0.0035 - acc: 0.6590 - mean_absolute_error: 0.0430 - val_loss: 0.0034 - val_acc: 0.6656 - val_mean_absolute_error: 0.0423\n",
      "Epoch 18/2000\n",
      "3557/3557 [==============================] - 0s - loss: 0.0035 - acc: 0.6595 - mean_absolute_error: 0.0430 - val_loss: 0.0034 - val_acc: 0.6688 - val_mean_absolute_error: 0.0422\n",
      "Epoch 19/2000\n",
      "3557/3557 [==============================] - 0s - loss: 0.0035 - acc: 0.6615 - mean_absolute_error: 0.0429 - val_loss: 0.0034 - val_acc: 0.6640 - val_mean_absolute_error: 0.0422\n",
      "Epoch 20/2000\n",
      "3557/3557 [==============================] - 0s - loss: 0.0035 - acc: 0.6595 - mean_absolute_error: 0.0429 - val_loss: 0.0034 - val_acc: 0.6720 - val_mean_absolute_error: 0.0421\n",
      "Epoch 21/2000\n",
      "3557/3557 [==============================] - 0s - loss: 0.0035 - acc: 0.6590 - mean_absolute_error: 0.0429 - val_loss: 0.0034 - val_acc: 0.6736 - val_mean_absolute_error: 0.0422\n",
      "Epoch 22/2000\n",
      "3557/3557 [==============================] - 0s - loss: 0.0035 - acc: 0.6612 - mean_absolute_error: 0.0428 - val_loss: 0.0034 - val_acc: 0.6640 - val_mean_absolute_error: 0.0420\n",
      "Epoch 23/2000\n",
      "3557/3557 [==============================] - 0s - loss: 0.0035 - acc: 0.6629 - mean_absolute_error: 0.0428 - val_loss: 0.0034 - val_acc: 0.6672 - val_mean_absolute_error: 0.0420\n",
      "Epoch 24/2000\n",
      "3557/3557 [==============================] - 0s - loss: 0.0035 - acc: 0.6635 - mean_absolute_error: 0.0428 - val_loss: 0.0034 - val_acc: 0.6704 - val_mean_absolute_error: 0.0420\n",
      "Epoch 25/2000\n",
      "3557/3557 [==============================] - 0s - loss: 0.0035 - acc: 0.6632 - mean_absolute_error: 0.0428 - val_loss: 0.0034 - val_acc: 0.6688 - val_mean_absolute_error: 0.0419\n",
      "Epoch 26/2000\n",
      "3557/3557 [==============================] - 0s - loss: 0.0035 - acc: 0.6632 - mean_absolute_error: 0.0428 - val_loss: 0.0034 - val_acc: 0.6704 - val_mean_absolute_error: 0.0421\n",
      "Epoch 27/2000\n",
      "3557/3557 [==============================] - 0s - loss: 0.0035 - acc: 0.6643 - mean_absolute_error: 0.0428 - val_loss: 0.0034 - val_acc: 0.6704 - val_mean_absolute_error: 0.0419\n",
      "Epoch 28/2000\n",
      "3557/3557 [==============================] - 0s - loss: 0.0035 - acc: 0.6632 - mean_absolute_error: 0.0428 - val_loss: 0.0034 - val_acc: 0.6799 - val_mean_absolute_error: 0.0420\n",
      "Epoch 29/2000\n",
      "3557/3557 [==============================] - 0s - loss: 0.0035 - acc: 0.6688 - mean_absolute_error: 0.0429 - val_loss: 0.0034 - val_acc: 0.6736 - val_mean_absolute_error: 0.0420\n",
      "Epoch 30/2000\n",
      "3557/3557 [==============================] - 0s - loss: 0.0035 - acc: 0.6677 - mean_absolute_error: 0.0429 - val_loss: 0.0034 - val_acc: 0.6831 - val_mean_absolute_error: 0.0420\n",
      "Epoch 31/2000\n",
      "3557/3557 [==============================] - 0s - loss: 0.0035 - acc: 0.6657 - mean_absolute_error: 0.0429 - val_loss: 0.0034 - val_acc: 0.6720 - val_mean_absolute_error: 0.0420\n",
      "Epoch 32/2000\n",
      "3557/3557 [==============================] - 0s - loss: 0.0035 - acc: 0.6705 - mean_absolute_error: 0.0429 - val_loss: 0.0034 - val_acc: 0.6704 - val_mean_absolute_error: 0.0419\n",
      "Epoch 33/2000\n",
      "3557/3557 [==============================] - 0s - loss: 0.0035 - acc: 0.6683 - mean_absolute_error: 0.0429 - val_loss: 0.0034 - val_acc: 0.6752 - val_mean_absolute_error: 0.0420\n",
      "Epoch 34/2000\n",
      "3557/3557 [==============================] - 0s - loss: 0.0035 - acc: 0.6705 - mean_absolute_error: 0.0429 - val_loss: 0.0034 - val_acc: 0.6736 - val_mean_absolute_error: 0.0420\n",
      "Epoch 35/2000\n",
      "3557/3557 [==============================] - 0s - loss: 0.0035 - acc: 0.6716 - mean_absolute_error: 0.0429 - val_loss: 0.0034 - val_acc: 0.6720 - val_mean_absolute_error: 0.0421\n",
      "Epoch 36/2000\n",
      "3557/3557 [==============================] - 0s - loss: 0.0035 - acc: 0.6699 - mean_absolute_error: 0.0429 - val_loss: 0.0034 - val_acc: 0.6736 - val_mean_absolute_error: 0.0420\n",
      "Epoch 37/2000\n",
      "3557/3557 [==============================] - 0s - loss: 0.0035 - acc: 0.6725 - mean_absolute_error: 0.0429 - val_loss: 0.0034 - val_acc: 0.6815 - val_mean_absolute_error: 0.0420\n",
      "Epoch 38/2000\n",
      "3557/3557 [==============================] - 0s - loss: 0.0035 - acc: 0.6702 - mean_absolute_error: 0.0430 - val_loss: 0.0034 - val_acc: 0.6704 - val_mean_absolute_error: 0.0421\n",
      "Epoch 39/2000\n",
      "3557/3557 [==============================] - 0s - loss: 0.0035 - acc: 0.6694 - mean_absolute_error: 0.0429 - val_loss: 0.0034 - val_acc: 0.6768 - val_mean_absolute_error: 0.0421\n",
      "Epoch 40/2000\n",
      "3557/3557 [==============================] - 0s - loss: 0.0035 - acc: 0.6719 - mean_absolute_error: 0.0429 - val_loss: 0.0034 - val_acc: 0.6688 - val_mean_absolute_error: 0.0422\n",
      "Epoch 41/2000\n",
      "3557/3557 [==============================] - 0s - loss: 0.0035 - acc: 0.6685 - mean_absolute_error: 0.0429 - val_loss: 0.0034 - val_acc: 0.6736 - val_mean_absolute_error: 0.0421\n",
      "Epoch 42/2000\n",
      "3557/3557 [==============================] - 0s - loss: 0.0035 - acc: 0.6719 - mean_absolute_error: 0.0430 - val_loss: 0.0034 - val_acc: 0.6752 - val_mean_absolute_error: 0.0421\n",
      "Epoch 43/2000\n"
     ]
    },
    {
     "name": "stdout",
     "output_type": "stream",
     "text": [
      "3557/3557 [==============================] - 0s - loss: 0.0035 - acc: 0.6728 - mean_absolute_error: 0.0430 - val_loss: 0.0034 - val_acc: 0.6720 - val_mean_absolute_error: 0.0421\n",
      "Epoch 44/2000\n",
      "3557/3557 [==============================] - 0s - loss: 0.0035 - acc: 0.6719 - mean_absolute_error: 0.0430 - val_loss: 0.0034 - val_acc: 0.6752 - val_mean_absolute_error: 0.0422\n",
      "Epoch 45/2000\n",
      "3557/3557 [==============================] - 0s - loss: 0.0035 - acc: 0.6736 - mean_absolute_error: 0.0430 - val_loss: 0.0034 - val_acc: 0.6688 - val_mean_absolute_error: 0.0421\n",
      "Epoch 46/2000\n",
      "3557/3557 [==============================] - 0s - loss: 0.0035 - acc: 0.6739 - mean_absolute_error: 0.0429 - val_loss: 0.0034 - val_acc: 0.6704 - val_mean_absolute_error: 0.0422\n",
      "Epoch 47/2000\n",
      "3557/3557 [==============================] - 0s - loss: 0.0035 - acc: 0.6747 - mean_absolute_error: 0.0429 - val_loss: 0.0034 - val_acc: 0.6736 - val_mean_absolute_error: 0.0422\n",
      "Epoch 48/2000\n",
      "3557/3557 [==============================] - 0s - loss: 0.0035 - acc: 0.6764 - mean_absolute_error: 0.0429 - val_loss: 0.0034 - val_acc: 0.6704 - val_mean_absolute_error: 0.0422\n",
      "Epoch 49/2000\n",
      "3557/3557 [==============================] - 0s - loss: 0.0035 - acc: 0.6759 - mean_absolute_error: 0.0429 - val_loss: 0.0034 - val_acc: 0.6640 - val_mean_absolute_error: 0.0423\n",
      "Epoch 50/2000\n",
      "3557/3557 [==============================] - 0s - loss: 0.0035 - acc: 0.6759 - mean_absolute_error: 0.0429 - val_loss: 0.0034 - val_acc: 0.6768 - val_mean_absolute_error: 0.0423\n",
      "Epoch 51/2000\n",
      "3557/3557 [==============================] - 0s - loss: 0.0035 - acc: 0.6767 - mean_absolute_error: 0.0429 - val_loss: 0.0034 - val_acc: 0.6688 - val_mean_absolute_error: 0.0423\n",
      "Epoch 52/2000\n",
      "3557/3557 [==============================] - 0s - loss: 0.0035 - acc: 0.6773 - mean_absolute_error: 0.0429 - val_loss: 0.0034 - val_acc: 0.6672 - val_mean_absolute_error: 0.0423\n",
      "Time to fit model: 4.12246704102 seconds\n"
     ]
    }
   ],
   "source": [
    "earlyStopping = EarlyStopping(monitor = 'val_loss', patience = 10, mode = 'auto')\n",
    "\n",
    "init_time = time.time()\n",
    "\n",
    "fitHistory = autoencoder3.fit(xTrainEncoded2, \n",
    "                              xTrainEncoded2, \n",
    "                              epochs = 2000,\n",
    "                              verbose = 1,\n",
    "                              shuffle = True,\n",
    "                              validation_data = (xValEncoded2, xValEncoded2), \n",
    "                              callbacks = [earlyStopping])\n",
    "\n",
    "end_time = time.time()\n",
    "\n",
    "print('Time to fit model: '+str(end_time-init_time)+' seconds')"
   ]
  },
  {
   "cell_type": "markdown",
   "metadata": {},
   "source": [
    "## Extracting autoencoder3 first layer to be used as encoder3"
   ]
  },
  {
   "cell_type": "code",
   "execution_count": 43,
   "metadata": {},
   "outputs": [],
   "source": [
    "encoder3layer = autoencoder3.get_layer(index=1)"
   ]
  },
  {
   "cell_type": "markdown",
   "metadata": {},
   "source": [
    "## Building SAE"
   ]
  },
  {
   "cell_type": "code",
   "execution_count": 72,
   "metadata": {},
   "outputs": [
    {
     "name": "stdout",
     "output_type": "stream",
     "text": [
      "_________________________________________________________________\n",
      "Layer (type)                 Output Shape              Param #   \n",
      "=================================================================\n",
      "dense_3 (Dense)              (None, 20)                820       \n",
      "_________________________________________________________________\n",
      "dense_9 (Dense)              (None, 20)                420       \n",
      "_________________________________________________________________\n",
      "dense_13 (Dense)             (None, 10)                210       \n",
      "_________________________________________________________________\n",
      "dense_22 (Dense)             (None, 1)                 11        \n",
      "=================================================================\n",
      "Total params: 1,461\n",
      "Trainable params: 11\n",
      "Non-trainable params: 1,450\n",
      "_________________________________________________________________\n"
     ]
    }
   ],
   "source": [
    "_encoder1layer = autoencoder.get_layer(index=1)\n",
    "_encoder2layer = autoencoder2.get_layer(index=1)\n",
    "_encoder3layer = autoencoder3.get_layer(index=1)\n",
    "\n",
    "_encoder1layer.trainable = False\n",
    "_encoder2layer.trainable = False\n",
    "_encoder3layer.trainable = False\n",
    "\n",
    "SAE = Sequential([\n",
    "                  _encoder1layer, \n",
    "                  _encoder2layer, \n",
    "                  _encoder3layer,\n",
    "                  Dense(1, activation='linear', kernel_initializer = 'uniform')\n",
    "                 ])\n",
    "\n",
    "SGD = optimizers.SGD(lr=0.03, momentum=0.10, decay=0.0, nesterov=False)\n",
    "\n",
    "SAE.compile(optimizer = 'adam', loss='mse', metrics=['accuracy', 'mae'])\n",
    "SAE.summary()"
   ]
  },
  {
   "cell_type": "code",
   "execution_count": 73,
   "metadata": {},
   "outputs": [
    {
     "name": "stdout",
     "output_type": "stream",
     "text": [
      "Train on 3557 samples, validate on 628 samples\n",
      "Epoch 1/2000\n",
      "3557/3557 [==============================] - 0s - loss: 0.0185 - acc: 0.0000e+00 - mean_absolute_error: 0.0893 - val_loss: 0.2045 - val_acc: 0.0000e+00 - val_mean_absolute_error: 0.2969\n",
      "Epoch 2/2000\n",
      "3557/3557 [==============================] - 0s - loss: 0.0160 - acc: 0.0000e+00 - mean_absolute_error: 0.0818 - val_loss: 0.1991 - val_acc: 0.0000e+00 - val_mean_absolute_error: 0.2927\n",
      "Epoch 3/2000\n",
      "3557/3557 [==============================] - 0s - loss: 0.0155 - acc: 0.0000e+00 - mean_absolute_error: 0.0804 - val_loss: 0.1966 - val_acc: 0.0000e+00 - val_mean_absolute_error: 0.2902\n",
      "Epoch 4/2000\n",
      "3557/3557 [==============================] - 0s - loss: 0.0154 - acc: 0.0000e+00 - mean_absolute_error: 0.0801 - val_loss: 0.1948 - val_acc: 0.0000e+00 - val_mean_absolute_error: 0.2878\n",
      "Epoch 5/2000\n",
      "3557/3557 [==============================] - 0s - loss: 0.0154 - acc: 0.0000e+00 - mean_absolute_error: 0.0800 - val_loss: 0.1947 - val_acc: 0.0000e+00 - val_mean_absolute_error: 0.2885\n",
      "Epoch 6/2000\n",
      "3557/3557 [==============================] - 0s - loss: 0.0153 - acc: 0.0000e+00 - mean_absolute_error: 0.0797 - val_loss: 0.1943 - val_acc: 0.0000e+00 - val_mean_absolute_error: 0.2879\n",
      "Epoch 7/2000\n",
      "3557/3557 [==============================] - 0s - loss: 0.0153 - acc: 0.0000e+00 - mean_absolute_error: 0.0798 - val_loss: 0.1941 - val_acc: 0.0000e+00 - val_mean_absolute_error: 0.2875\n",
      "Epoch 8/2000\n",
      "3557/3557 [==============================] - 0s - loss: 0.0153 - acc: 0.0000e+00 - mean_absolute_error: 0.0799 - val_loss: 0.1939 - val_acc: 0.0000e+00 - val_mean_absolute_error: 0.2873\n",
      "Epoch 9/2000\n",
      "3557/3557 [==============================] - 0s - loss: 0.0153 - acc: 0.0000e+00 - mean_absolute_error: 0.0797 - val_loss: 0.1951 - val_acc: 0.0000e+00 - val_mean_absolute_error: 0.2895\n",
      "Epoch 10/2000\n",
      "3557/3557 [==============================] - 0s - loss: 0.0153 - acc: 0.0000e+00 - mean_absolute_error: 0.0796 - val_loss: 0.1954 - val_acc: 0.0000e+00 - val_mean_absolute_error: 0.2902\n",
      "Epoch 11/2000\n",
      "3557/3557 [==============================] - 0s - loss: 0.0153 - acc: 0.0000e+00 - mean_absolute_error: 0.0798 - val_loss: 0.1946 - val_acc: 0.0000e+00 - val_mean_absolute_error: 0.2893\n",
      "Epoch 12/2000\n",
      "3557/3557 [==============================] - 0s - loss: 0.0153 - acc: 0.0000e+00 - mean_absolute_error: 0.0798 - val_loss: 0.1948 - val_acc: 0.0000e+00 - val_mean_absolute_error: 0.2895\n",
      "Epoch 13/2000\n",
      "3557/3557 [==============================] - 0s - loss: 0.0153 - acc: 0.0000e+00 - mean_absolute_error: 0.0797 - val_loss: 0.1967 - val_acc: 0.0000e+00 - val_mean_absolute_error: 0.2930\n",
      "Epoch 14/2000\n",
      "3557/3557 [==============================] - 0s - loss: 0.0153 - acc: 0.0000e+00 - mean_absolute_error: 0.0798 - val_loss: 0.1940 - val_acc: 0.0000e+00 - val_mean_absolute_error: 0.2878\n",
      "Epoch 15/2000\n",
      "3557/3557 [==============================] - 0s - loss: 0.0153 - acc: 0.0000e+00 - mean_absolute_error: 0.0798 - val_loss: 0.1938 - val_acc: 0.0000e+00 - val_mean_absolute_error: 0.2875\n",
      "Epoch 16/2000\n",
      "3557/3557 [==============================] - 0s - loss: 0.0153 - acc: 0.0000e+00 - mean_absolute_error: 0.0796 - val_loss: 0.1944 - val_acc: 0.0000e+00 - val_mean_absolute_error: 0.2891\n",
      "Epoch 17/2000\n",
      "3557/3557 [==============================] - 0s - loss: 0.0153 - acc: 0.0000e+00 - mean_absolute_error: 0.0796 - val_loss: 0.1941 - val_acc: 0.0000e+00 - val_mean_absolute_error: 0.2886\n",
      "Epoch 18/2000\n",
      "3557/3557 [==============================] - 0s - loss: 0.0153 - acc: 0.0000e+00 - mean_absolute_error: 0.0797 - val_loss: 0.1949 - val_acc: 0.0000e+00 - val_mean_absolute_error: 0.2894\n",
      "Epoch 19/2000\n",
      "3557/3557 [==============================] - 0s - loss: 0.0153 - acc: 0.0000e+00 - mean_absolute_error: 0.0796 - val_loss: 0.1956 - val_acc: 0.0000e+00 - val_mean_absolute_error: 0.2912\n",
      "Epoch 20/2000\n",
      "3557/3557 [==============================] - 0s - loss: 0.0153 - acc: 0.0000e+00 - mean_absolute_error: 0.0797 - val_loss: 0.1946 - val_acc: 0.0000e+00 - val_mean_absolute_error: 0.2890\n",
      "Epoch 21/2000\n",
      "3557/3557 [==============================] - 0s - loss: 0.0153 - acc: 0.0000e+00 - mean_absolute_error: 0.0797 - val_loss: 0.1958 - val_acc: 0.0000e+00 - val_mean_absolute_error: 0.2912\n",
      "Epoch 22/2000\n",
      "3557/3557 [==============================] - 0s - loss: 0.0153 - acc: 0.0000e+00 - mean_absolute_error: 0.0797 - val_loss: 0.1949 - val_acc: 0.0000e+00 - val_mean_absolute_error: 0.2899\n",
      "Epoch 23/2000\n",
      "3557/3557 [==============================] - 0s - loss: 0.0153 - acc: 0.0000e+00 - mean_absolute_error: 0.0796 - val_loss: 0.1950 - val_acc: 0.0000e+00 - val_mean_absolute_error: 0.2898\n",
      "Epoch 24/2000\n",
      "3557/3557 [==============================] - 0s - loss: 0.0153 - acc: 0.0000e+00 - mean_absolute_error: 0.0798 - val_loss: 0.1943 - val_acc: 0.0000e+00 - val_mean_absolute_error: 0.2886\n",
      "Epoch 25/2000\n",
      "3557/3557 [==============================] - 0s - loss: 0.0153 - acc: 0.0000e+00 - mean_absolute_error: 0.0797 - val_loss: 0.1943 - val_acc: 0.0000e+00 - val_mean_absolute_error: 0.2887\n",
      "Epoch 26/2000\n",
      "3557/3557 [==============================] - 0s - loss: 0.0153 - acc: 0.0000e+00 - mean_absolute_error: 0.0797 - val_loss: 0.1935 - val_acc: 0.0000e+00 - val_mean_absolute_error: 0.2869\n",
      "Epoch 27/2000\n",
      "3557/3557 [==============================] - 0s - loss: 0.0153 - acc: 0.0000e+00 - mean_absolute_error: 0.0797 - val_loss: 0.1944 - val_acc: 0.0000e+00 - val_mean_absolute_error: 0.2887\n",
      "Epoch 28/2000\n",
      "3557/3557 [==============================] - 0s - loss: 0.0153 - acc: 0.0000e+00 - mean_absolute_error: 0.0797 - val_loss: 0.1947 - val_acc: 0.0000e+00 - val_mean_absolute_error: 0.2891\n",
      "Epoch 29/2000\n",
      "3557/3557 [==============================] - 0s - loss: 0.0153 - acc: 0.0000e+00 - mean_absolute_error: 0.0797 - val_loss: 0.1939 - val_acc: 0.0000e+00 - val_mean_absolute_error: 0.2875\n",
      "Epoch 30/2000\n",
      "3557/3557 [==============================] - 0s - loss: 0.0153 - acc: 0.0000e+00 - mean_absolute_error: 0.0796 - val_loss: 0.1949 - val_acc: 0.0000e+00 - val_mean_absolute_error: 0.2897\n",
      "Epoch 31/2000\n",
      "3557/3557 [==============================] - 0s - loss: 0.0153 - acc: 0.0000e+00 - mean_absolute_error: 0.0798 - val_loss: 0.1952 - val_acc: 0.0000e+00 - val_mean_absolute_error: 0.2905\n",
      "Epoch 32/2000\n",
      "3557/3557 [==============================] - 0s - loss: 0.0153 - acc: 0.0000e+00 - mean_absolute_error: 0.0797 - val_loss: 0.1946 - val_acc: 0.0000e+00 - val_mean_absolute_error: 0.2891\n",
      "Epoch 33/2000\n",
      "3557/3557 [==============================] - 0s - loss: 0.0153 - acc: 0.0000e+00 - mean_absolute_error: 0.0799 - val_loss: 0.1950 - val_acc: 0.0000e+00 - val_mean_absolute_error: 0.2896\n",
      "Epoch 34/2000\n",
      "3557/3557 [==============================] - 0s - loss: 0.0153 - acc: 0.0000e+00 - mean_absolute_error: 0.0796 - val_loss: 0.1943 - val_acc: 0.0000e+00 - val_mean_absolute_error: 0.2885\n",
      "Epoch 35/2000\n",
      "3557/3557 [==============================] - 0s - loss: 0.0153 - acc: 0.0000e+00 - mean_absolute_error: 0.0797 - val_loss: 0.1944 - val_acc: 0.0000e+00 - val_mean_absolute_error: 0.2886\n",
      "Epoch 36/2000\n",
      "3557/3557 [==============================] - 0s - loss: 0.0153 - acc: 0.0000e+00 - mean_absolute_error: 0.0798 - val_loss: 0.1940 - val_acc: 0.0000e+00 - val_mean_absolute_error: 0.2880\n",
      "Epoch 37/2000\n",
      "3557/3557 [==============================] - 0s - loss: 0.0153 - acc: 0.0000e+00 - mean_absolute_error: 0.0798 - val_loss: 0.1957 - val_acc: 0.0000e+00 - val_mean_absolute_error: 0.2917\n",
      "Time to fit model: 2.98299694061 seconds\n"
     ]
    }
   ],
   "source": [
    "earlyStopping = EarlyStopping(monitor = 'val_loss', patience = 10, mode = 'auto')\n",
    "\n",
    "init_time = time.time()\n",
    "\n",
    "fitHistory = SAE.fit(xTrain, \n",
    "                     yTrain, \n",
    "                     epochs = 2000,\n",
    "                     verbose = 1,\n",
    "                     shuffle = True,\n",
    "                     validation_data = (xVal, yVal), \n",
    "                     callbacks = [earlyStopping])\n",
    "\n",
    "end_time = time.time()\n",
    "\n",
    "print('Time to fit model: '+str(end_time-init_time)+' seconds')"
   ]
  },
  {
   "cell_type": "code",
   "execution_count": 74,
   "metadata": {},
   "outputs": [
    {
     "data": {
      "text/plain": [
       "<matplotlib.legend.Legend at 0x10bdb190>"
      ]
     },
     "execution_count": 74,
     "metadata": {},
     "output_type": "execute_result"
    },
    {
     "data": {
      "image/png": "[encoded data removed]",
      "text/plain": [
       "<matplotlib.figure.Figure at 0x11bfdd10>"
      ]
     },
     "metadata": {},
     "output_type": "display_data"
    }
   ],
   "source": [
    "fig, ax = plt.subplots(figsize = (10,10), nrows = 1, ncols = 1)\n",
    "ax.set_title('RMSE per epoch')\n",
    "ax.set_xlabel('Epoch')\n",
    "ax.set_ylabel('RMSE')\n",
    "trainigSet, = ax.plot(np.sqrt(fitHistory.history['loss']), 'b', label = 'trainig set')\n",
    "validationSet, = ax.plot(np.sqrt(fitHistory.history['val_loss']), 'r', label = 'validation set')\n",
    "plt.legend(handles=[trainigSet, validationSet], labels=['training set', 'validation set'], prop={'size': 15})\n",
    "#fig.savefig('{}/{}.{}'.format(saveFigDir, 'RMSE_per_epoch_autoencoder_30_40', 'pdf'), bbox_inches='tight')"
   ]
  },
  {
   "cell_type": "code",
   "execution_count": 79,
   "metadata": {},
   "outputs": [
    {
     "name": "stdout",
     "output_type": "stream",
     "text": [
      "Train on 3557 samples, validate on 628 samples\n",
      "Epoch 1/2000\n",
      "3557/3557 [==============================] - 0s - loss: 0.0153 - acc: 0.0000e+00 - mean_absolute_error: 0.0798 - val_loss: 0.1935 - val_acc: 0.0000e+00 - val_mean_absolute_error: 0.2867\n",
      "Epoch 2/2000\n",
      "3557/3557 [==============================] - 0s - loss: 0.0153 - acc: 0.0000e+00 - mean_absolute_error: 0.0796 - val_loss: 0.1949 - val_acc: 0.0000e+00 - val_mean_absolute_error: 0.2892\n",
      "Epoch 3/2000\n",
      "3557/3557 [==============================] - 0s - loss: 0.0153 - acc: 0.0000e+00 - mean_absolute_error: 0.0795 - val_loss: 0.1946 - val_acc: 0.0000e+00 - val_mean_absolute_error: 0.2891\n",
      "Epoch 4/2000\n",
      "3557/3557 [==============================] - 0s - loss: 0.0153 - acc: 0.0000e+00 - mean_absolute_error: 0.0798 - val_loss: 0.1933 - val_acc: 0.0000e+00 - val_mean_absolute_error: 0.2865\n",
      "Epoch 5/2000\n",
      "3557/3557 [==============================] - 0s - loss: 0.0153 - acc: 0.0000e+00 - mean_absolute_error: 0.0798 - val_loss: 0.1946 - val_acc: 0.0000e+00 - val_mean_absolute_error: 0.2893\n",
      "Epoch 6/2000\n",
      "3557/3557 [==============================] - 0s - loss: 0.0153 - acc: 0.0000e+00 - mean_absolute_error: 0.0799 - val_loss: 0.1945 - val_acc: 0.0000e+00 - val_mean_absolute_error: 0.2889\n",
      "Epoch 7/2000\n",
      "3557/3557 [==============================] - 0s - loss: 0.0153 - acc: 0.0000e+00 - mean_absolute_error: 0.0798 - val_loss: 0.1937 - val_acc: 0.0000e+00 - val_mean_absolute_error: 0.2875\n",
      "Epoch 8/2000\n",
      "3557/3557 [==============================] - 0s - loss: 0.0153 - acc: 0.0000e+00 - mean_absolute_error: 0.0798 - val_loss: 0.1947 - val_acc: 0.0000e+00 - val_mean_absolute_error: 0.2896\n",
      "Epoch 9/2000\n",
      "3557/3557 [==============================] - 0s - loss: 0.0153 - acc: 0.0000e+00 - mean_absolute_error: 0.0797 - val_loss: 0.1944 - val_acc: 0.0000e+00 - val_mean_absolute_error: 0.2888\n",
      "Epoch 10/2000\n",
      "3557/3557 [==============================] - 0s - loss: 0.0153 - acc: 0.0000e+00 - mean_absolute_error: 0.0797 - val_loss: 0.1947 - val_acc: 0.0000e+00 - val_mean_absolute_error: 0.2892\n",
      "Epoch 11/2000\n",
      "3557/3557 [==============================] - 0s - loss: 0.0153 - acc: 0.0000e+00 - mean_absolute_error: 0.0797 - val_loss: 0.1951 - val_acc: 0.0000e+00 - val_mean_absolute_error: 0.2901\n",
      "Epoch 12/2000\n",
      "3557/3557 [==============================] - 0s - loss: 0.0153 - acc: 0.0000e+00 - mean_absolute_error: 0.0796 - val_loss: 0.1941 - val_acc: 0.0000e+00 - val_mean_absolute_error: 0.2878\n",
      "Epoch 13/2000\n",
      "3557/3557 [==============================] - 0s - loss: 0.0153 - acc: 0.0000e+00 - mean_absolute_error: 0.0797 - val_loss: 0.1951 - val_acc: 0.0000e+00 - val_mean_absolute_error: 0.2904\n",
      "Epoch 14/2000\n",
      "3557/3557 [==============================] - 0s - loss: 0.0153 - acc: 0.0000e+00 - mean_absolute_error: 0.0797 - val_loss: 0.1947 - val_acc: 0.0000e+00 - val_mean_absolute_error: 0.2890\n",
      "Epoch 15/2000\n",
      "3557/3557 [==============================] - 0s - loss: 0.0153 - acc: 0.0000e+00 - mean_absolute_error: 0.0797 - val_loss: 0.1952 - val_acc: 0.0000e+00 - val_mean_absolute_error: 0.2901\n",
      "Time to fit layer 0: 1.14798617363 seconds\n",
      "Train on 3557 samples, validate on 628 samples\n",
      "Epoch 1/2000\n",
      "3557/3557 [==============================] - 0s - loss: 0.0153 - acc: 0.0000e+00 - mean_absolute_error: 0.0797 - val_loss: 0.1947 - val_acc: 0.0000e+00 - val_mean_absolute_error: 0.2897\n",
      "Epoch 2/2000\n",
      "3557/3557 [==============================] - 0s - loss: 0.0153 - acc: 0.0000e+00 - mean_absolute_error: 0.0797 - val_loss: 0.1945 - val_acc: 0.0000e+00 - val_mean_absolute_error: 0.2895\n",
      "Epoch 3/2000\n",
      "3557/3557 [==============================] - 0s - loss: 0.0153 - acc: 0.0000e+00 - mean_absolute_error: 0.0796 - val_loss: 0.1944 - val_acc: 0.0000e+00 - val_mean_absolute_error: 0.2890\n",
      "Epoch 4/2000\n",
      "3557/3557 [==============================] - 0s - loss: 0.0153 - acc: 0.0000e+00 - mean_absolute_error: 0.0798 - val_loss: 0.1932 - val_acc: 0.0000e+00 - val_mean_absolute_error: 0.2869\n",
      "Epoch 5/2000\n",
      "3557/3557 [==============================] - 0s - loss: 0.0153 - acc: 0.0000e+00 - mean_absolute_error: 0.0796 - val_loss: 0.1951 - val_acc: 0.0000e+00 - val_mean_absolute_error: 0.2903\n",
      "Epoch 6/2000\n",
      "3557/3557 [==============================] - 0s - loss: 0.0153 - acc: 0.0000e+00 - mean_absolute_error: 0.0798 - val_loss: 0.1947 - val_acc: 0.0000e+00 - val_mean_absolute_error: 0.2893\n",
      "Epoch 7/2000\n",
      "3557/3557 [==============================] - 0s - loss: 0.0153 - acc: 0.0000e+00 - mean_absolute_error: 0.0796 - val_loss: 0.1949 - val_acc: 0.0000e+00 - val_mean_absolute_error: 0.2896\n",
      "Epoch 8/2000\n",
      "3557/3557 [==============================] - 0s - loss: 0.0153 - acc: 0.0000e+00 - mean_absolute_error: 0.0796 - val_loss: 0.1947 - val_acc: 0.0000e+00 - val_mean_absolute_error: 0.2892\n",
      "Epoch 9/2000\n",
      "3557/3557 [==============================] - 0s - loss: 0.0153 - acc: 0.0000e+00 - mean_absolute_error: 0.0797 - val_loss: 0.1958 - val_acc: 0.0000e+00 - val_mean_absolute_error: 0.2912\n",
      "Epoch 10/2000\n",
      "3557/3557 [==============================] - 0s - loss: 0.0153 - acc: 0.0000e+00 - mean_absolute_error: 0.0797 - val_loss: 0.1935 - val_acc: 0.0000e+00 - val_mean_absolute_error: 0.2871\n",
      "Epoch 11/2000\n",
      "3557/3557 [==============================] - 0s - loss: 0.0153 - acc: 0.0000e+00 - mean_absolute_error: 0.0798 - val_loss: 0.1952 - val_acc: 0.0000e+00 - val_mean_absolute_error: 0.2907\n",
      "Epoch 12/2000\n",
      "3557/3557 [==============================] - 0s - loss: 0.0153 - acc: 0.0000e+00 - mean_absolute_error: 0.0796 - val_loss: 0.1941 - val_acc: 0.0000e+00 - val_mean_absolute_error: 0.2886\n",
      "Epoch 13/2000\n",
      "3557/3557 [==============================] - 0s - loss: 0.0153 - acc: 0.0000e+00 - mean_absolute_error: 0.0796 - val_loss: 0.1950 - val_acc: 0.0000e+00 - val_mean_absolute_error: 0.2900\n",
      "Epoch 14/2000\n",
      "3557/3557 [==============================] - 0s - loss: 0.0153 - acc: 0.0000e+00 - mean_absolute_error: 0.0796 - val_loss: 0.1948 - val_acc: 0.0000e+00 - val_mean_absolute_error: 0.2895\n",
      "Epoch 15/2000\n",
      "3557/3557 [==============================] - 0s - loss: 0.0153 - acc: 0.0000e+00 - mean_absolute_error: 0.0796 - val_loss: 0.1951 - val_acc: 0.0000e+00 - val_mean_absolute_error: 0.2896\n",
      "Time to fit layer 1: 1.13440608978 seconds\n",
      "Train on 3557 samples, validate on 628 samples\n",
      "Epoch 1/2000\n",
      "3557/3557 [==============================] - 0s - loss: 0.0153 - acc: 0.0000e+00 - mean_absolute_error: 0.0798 - val_loss: 0.1945 - val_acc: 0.0000e+00 - val_mean_absolute_error: 0.2890\n",
      "Epoch 2/2000\n",
      "3557/3557 [==============================] - 0s - loss: 0.0153 - acc: 0.0000e+00 - mean_absolute_error: 0.0795 - val_loss: 0.1941 - val_acc: 0.0000e+00 - val_mean_absolute_error: 0.2881\n",
      "Epoch 3/2000\n",
      "3557/3557 [==============================] - 0s - loss: 0.0153 - acc: 0.0000e+00 - mean_absolute_error: 0.0796 - val_loss: 0.1940 - val_acc: 0.0000e+00 - val_mean_absolute_error: 0.2878\n",
      "Epoch 4/2000\n",
      "3557/3557 [==============================] - 0s - loss: 0.0153 - acc: 0.0000e+00 - mean_absolute_error: 0.0798 - val_loss: 0.1949 - val_acc: 0.0000e+00 - val_mean_absolute_error: 0.2897\n",
      "Epoch 5/2000\n",
      "3557/3557 [==============================] - 0s - loss: 0.0153 - acc: 0.0000e+00 - mean_absolute_error: 0.0798 - val_loss: 0.1947 - val_acc: 0.0000e+00 - val_mean_absolute_error: 0.2895\n",
      "Epoch 6/2000\n",
      "3557/3557 [==============================] - 0s - loss: 0.0153 - acc: 0.0000e+00 - mean_absolute_error: 0.0796 - val_loss: 0.1952 - val_acc: 0.0000e+00 - val_mean_absolute_error: 0.2903\n",
      "Epoch 7/2000\n",
      "3557/3557 [==============================] - 0s - loss: 0.0153 - acc: 0.0000e+00 - mean_absolute_error: 0.0798 - val_loss: 0.1940 - val_acc: 0.0000e+00 - val_mean_absolute_error: 0.2877\n",
      "Epoch 8/2000\n",
      "3557/3557 [==============================] - 0s - loss: 0.0153 - acc: 0.0000e+00 - mean_absolute_error: 0.0797 - val_loss: 0.1945 - val_acc: 0.0000e+00 - val_mean_absolute_error: 0.2887\n",
      "Epoch 9/2000\n",
      "3557/3557 [==============================] - 0s - loss: 0.0153 - acc: 0.0000e+00 - mean_absolute_error: 0.0797 - val_loss: 0.1949 - val_acc: 0.0000e+00 - val_mean_absolute_error: 0.2898\n",
      "Epoch 10/2000\n"
     ]
    },
    {
     "name": "stdout",
     "output_type": "stream",
     "text": [
      "3557/3557 [==============================] - 0s - loss: 0.0152 - acc: 0.0000e+00 - mean_absolute_error: 0.0796 - val_loss: 0.1943 - val_acc: 0.0000e+00 - val_mean_absolute_error: 0.2886\n",
      "Epoch 11/2000\n",
      "3557/3557 [==============================] - 0s - loss: 0.0153 - acc: 0.0000e+00 - mean_absolute_error: 0.0797 - val_loss: 0.1937 - val_acc: 0.0000e+00 - val_mean_absolute_error: 0.2874\n",
      "Epoch 12/2000\n",
      "3557/3557 [==============================] - 0s - loss: 0.0153 - acc: 0.0000e+00 - mean_absolute_error: 0.0797 - val_loss: 0.1949 - val_acc: 0.0000e+00 - val_mean_absolute_error: 0.2899\n",
      "Epoch 13/2000\n",
      "3557/3557 [==============================] - 0s - loss: 0.0153 - acc: 0.0000e+00 - mean_absolute_error: 0.0796 - val_loss: 0.1938 - val_acc: 0.0000e+00 - val_mean_absolute_error: 0.2875\n",
      "Epoch 14/2000\n",
      "3557/3557 [==============================] - 0s - loss: 0.0153 - acc: 0.0000e+00 - mean_absolute_error: 0.0798 - val_loss: 0.1947 - val_acc: 0.0000e+00 - val_mean_absolute_error: 0.2892\n",
      "Epoch 15/2000\n",
      "3557/3557 [==============================] - 0s - loss: 0.0153 - acc: 0.0000e+00 - mean_absolute_error: 0.0797 - val_loss: 0.1951 - val_acc: 0.0000e+00 - val_mean_absolute_error: 0.2904\n",
      "Epoch 16/2000\n",
      "3557/3557 [==============================] - 0s - loss: 0.0153 - acc: 0.0000e+00 - mean_absolute_error: 0.0799 - val_loss: 0.1932 - val_acc: 0.0000e+00 - val_mean_absolute_error: 0.2865\n",
      "Epoch 17/2000\n",
      "3557/3557 [==============================] - 0s - loss: 0.0153 - acc: 0.0000e+00 - mean_absolute_error: 0.0798 - val_loss: 0.1945 - val_acc: 0.0000e+00 - val_mean_absolute_error: 0.2892\n",
      "Epoch 18/2000\n",
      "3557/3557 [==============================] - 0s - loss: 0.0153 - acc: 0.0000e+00 - mean_absolute_error: 0.0797 - val_loss: 0.1945 - val_acc: 0.0000e+00 - val_mean_absolute_error: 0.2890\n",
      "Epoch 19/2000\n",
      "3557/3557 [==============================] - 0s - loss: 0.0153 - acc: 0.0000e+00 - mean_absolute_error: 0.0796 - val_loss: 0.1948 - val_acc: 0.0000e+00 - val_mean_absolute_error: 0.2893\n",
      "Epoch 20/2000\n",
      "3557/3557 [==============================] - 0s - loss: 0.0153 - acc: 0.0000e+00 - mean_absolute_error: 0.0796 - val_loss: 0.1958 - val_acc: 0.0000e+00 - val_mean_absolute_error: 0.2917\n",
      "Epoch 21/2000\n",
      "3557/3557 [==============================] - 0s - loss: 0.0153 - acc: 0.0000e+00 - mean_absolute_error: 0.0801 - val_loss: 0.1944 - val_acc: 0.0000e+00 - val_mean_absolute_error: 0.2887\n",
      "Epoch 22/2000\n",
      "3557/3557 [==============================] - 0s - loss: 0.0153 - acc: 0.0000e+00 - mean_absolute_error: 0.0796 - val_loss: 0.1939 - val_acc: 0.0000e+00 - val_mean_absolute_error: 0.2876\n",
      "Epoch 23/2000\n",
      "3557/3557 [==============================] - 0s - loss: 0.0153 - acc: 0.0000e+00 - mean_absolute_error: 0.0796 - val_loss: 0.1945 - val_acc: 0.0000e+00 - val_mean_absolute_error: 0.2887\n",
      "Epoch 24/2000\n",
      "3557/3557 [==============================] - 0s - loss: 0.0153 - acc: 0.0000e+00 - mean_absolute_error: 0.0798 - val_loss: 0.1949 - val_acc: 0.0000e+00 - val_mean_absolute_error: 0.2897\n",
      "Epoch 25/2000\n",
      "3557/3557 [==============================] - 0s - loss: 0.0153 - acc: 0.0000e+00 - mean_absolute_error: 0.0796 - val_loss: 0.1940 - val_acc: 0.0000e+00 - val_mean_absolute_error: 0.2875\n",
      "Epoch 26/2000\n",
      "3557/3557 [==============================] - 0s - loss: 0.0153 - acc: 0.0000e+00 - mean_absolute_error: 0.0799 - val_loss: 0.1936 - val_acc: 0.0000e+00 - val_mean_absolute_error: 0.2877\n",
      "Epoch 27/2000\n",
      "3557/3557 [==============================] - 0s - loss: 0.0153 - acc: 0.0000e+00 - mean_absolute_error: 0.0797 - val_loss: 0.1936 - val_acc: 0.0000e+00 - val_mean_absolute_error: 0.2873\n",
      "Time to fit layer 2: 2.03245401382 seconds\n"
     ]
    }
   ],
   "source": [
    "SAE.layers[3].trainable = False\n",
    "\n",
    "for i in range(3):\n",
    "    SAE.layers[i].trainable = True\n",
    "    \n",
    "    init_time = time.time()\n",
    "\n",
    "    fitHistory = SAE.fit(xTrain, \n",
    "                         yTrain, \n",
    "                         epochs = 2000,\n",
    "                         verbose = 1,\n",
    "                         shuffle = True,\n",
    "                         validation_data = (xVal, yVal), \n",
    "                         callbacks = [earlyStopping])\n",
    "\n",
    "    end_time = time.time()\n",
    "    print('Time to fit layer ' + str(i) +': '+str(end_time-init_time)+' seconds')"
   ]
  },
  {
   "cell_type": "code",
   "execution_count": 80,
   "metadata": {},
   "outputs": [
    {
     "name": "stdout",
     "output_type": "stream",
     "text": [
      "Train on 3557 samples, validate on 628 samples\n",
      "Epoch 1/2000\n",
      "3557/3557 [==============================] - 0s - loss: 0.0153 - acc: 0.0000e+00 - mean_absolute_error: 0.0796 - val_loss: 0.1935 - val_acc: 0.0000e+00 - val_mean_absolute_error: 0.2870\n",
      "Epoch 2/2000\n",
      "3557/3557 [==============================] - 0s - loss: 0.0153 - acc: 0.0000e+00 - mean_absolute_error: 0.0797 - val_loss: 0.1947 - val_acc: 0.0000e+00 - val_mean_absolute_error: 0.2893\n",
      "Epoch 3/2000\n",
      "3557/3557 [==============================] - 0s - loss: 0.0153 - acc: 0.0000e+00 - mean_absolute_error: 0.0797 - val_loss: 0.1936 - val_acc: 0.0000e+00 - val_mean_absolute_error: 0.2872\n",
      "Epoch 4/2000\n",
      "3557/3557 [==============================] - 0s - loss: 0.0153 - acc: 0.0000e+00 - mean_absolute_error: 0.0798 - val_loss: 0.1946 - val_acc: 0.0000e+00 - val_mean_absolute_error: 0.2888\n",
      "Epoch 5/2000\n",
      "3557/3557 [==============================] - 0s - loss: 0.0153 - acc: 0.0000e+00 - mean_absolute_error: 0.0797 - val_loss: 0.1956 - val_acc: 0.0000e+00 - val_mean_absolute_error: 0.2912\n",
      "Epoch 6/2000\n",
      "3557/3557 [==============================] - 0s - loss: 0.0153 - acc: 0.0000e+00 - mean_absolute_error: 0.0796 - val_loss: 0.1947 - val_acc: 0.0000e+00 - val_mean_absolute_error: 0.2897\n",
      "Epoch 7/2000\n",
      "3557/3557 [==============================] - 0s - loss: 0.0153 - acc: 0.0000e+00 - mean_absolute_error: 0.0797 - val_loss: 0.1943 - val_acc: 0.0000e+00 - val_mean_absolute_error: 0.2890\n",
      "Epoch 8/2000\n",
      "3557/3557 [==============================] - 0s - loss: 0.0153 - acc: 0.0000e+00 - mean_absolute_error: 0.0797 - val_loss: 0.1947 - val_acc: 0.0000e+00 - val_mean_absolute_error: 0.2894\n",
      "Epoch 9/2000\n",
      "3557/3557 [==============================] - 0s - loss: 0.0153 - acc: 0.0000e+00 - mean_absolute_error: 0.0797 - val_loss: 0.1953 - val_acc: 0.0000e+00 - val_mean_absolute_error: 0.2906\n",
      "Epoch 10/2000\n",
      "3557/3557 [==============================] - 0s - loss: 0.0153 - acc: 0.0000e+00 - mean_absolute_error: 0.0797 - val_loss: 0.1945 - val_acc: 0.0000e+00 - val_mean_absolute_error: 0.2890\n",
      "Epoch 11/2000\n",
      "3557/3557 [==============================] - 0s - loss: 0.0153 - acc: 0.0000e+00 - mean_absolute_error: 0.0797 - val_loss: 0.1949 - val_acc: 0.0000e+00 - val_mean_absolute_error: 0.2899\n",
      "Epoch 12/2000\n",
      "3557/3557 [==============================] - 0s - loss: 0.0153 - acc: 0.0000e+00 - mean_absolute_error: 0.0796 - val_loss: 0.1944 - val_acc: 0.0000e+00 - val_mean_absolute_error: 0.2890\n",
      "Time to fit model: 0.897519826889 seconds\n"
     ]
    }
   ],
   "source": [
    "SAE.layers[0].trainable = True\n",
    "SAE.layers[1].trainable = True\n",
    "SAE.layers[2].trainable = True\n",
    "SAE.layers[3].trainable = True\n",
    "\n",
    "init_time = time.time()\n",
    "\n",
    "fitHistory = SAE.fit(xTrain, \n",
    "                     yTrain, \n",
    "                     epochs = 2000,\n",
    "                     verbose = 1,\n",
    "                     shuffle = True,\n",
    "                     validation_data = (xVal, yVal), \n",
    "                     callbacks = [earlyStopping])\n",
    "\n",
    "end_time = time.time()\n",
    "print('Time to fit model: '+str(end_time-init_time)+' seconds')"
   ]
  },
  {
   "cell_type": "code",
   "execution_count": 81,
   "metadata": {},
   "outputs": [
    {
     "data": {
      "text/plain": [
       "<matplotlib.legend.Legend at 0x10c93250>"
      ]
     },
     "execution_count": 81,
     "metadata": {},
     "output_type": "execute_result"
    },
    {
     "data": {
      "image/png": "[encoded data removed]",
      "text/plain": [
       "<matplotlib.figure.Figure at 0x110e0810>"
      ]
     },
     "metadata": {},
     "output_type": "display_data"
    }
   ],
   "source": [
    "fig, ax = plt.subplots(figsize = (10,10), nrows = 1, ncols = 1)\n",
    "ax.set_title('RMSE per epoch')\n",
    "ax.set_xlabel('Epoch')\n",
    "ax.set_ylabel('RMSE')\n",
    "trainigSet, = ax.plot(np.sqrt(fitHistory.history['loss']), 'b', label = 'trainig set')\n",
    "validationSet, = ax.plot(np.sqrt(fitHistory.history['val_loss']), 'r', label = 'validation set')\n",
    "plt.legend(handles=[trainigSet, validationSet], labels=['training set', 'validation set'], prop={'size': 15})\n",
    "#fig.savefig('{}/{}.{}'.format(saveFigDir, 'RMSE_per_epoch_autoencoder_30_40', 'pdf'), bbox_inches='tight')"
   ]
  },
  {
   "cell_type": "markdown",
   "metadata": {},
   "source": [
    "## Visualizing Predictions"
   ]
  },
  {
   "cell_type": "code",
   "execution_count": 82,
   "metadata": {},
   "outputs": [
    {
     "data": {
      "text/plain": [
       "(<matplotlib.figure.Figure at 0x11bef2d0>,\n",
       " <matplotlib.axes._subplots.AxesSubplot at 0x10c75d50>)"
      ]
     },
     "execution_count": 82,
     "metadata": {},
     "output_type": "execute_result"
    },
    {
     "data": {
      "image/png": "[encoded data removed]",
      "text/plain": [
       "<matplotlib.figure.Figure at 0x11bef2d0>"
      ]
     },
     "metadata": {},
     "output_type": "display_data"
    }
   ],
   "source": [
    "predictions = SAE.predict(xTest)\n",
    "predictions = yScaler.inverse_transform(predictions)\n",
    "predictions_clean = []\n",
    "for p in predictions:\n",
    "    predictions_clean.extend(p)\n",
    "predictionsSeries = pd.Series(predictions_clean, index = df['2017'].index)\n",
    "\n",
    "plotSeries([df['PETR4_Close_trend']+ df['PETR4_Close_resid'], \n",
    "#            df['PETR4_Close_trend'],\n",
    "            df['PETR4_Close_trend'] + predictionsSeries],\n",
    "           initialPlotDate = '2017-05', finalPlotDate = '2017-06',\n",
    "           title = 'Original Data vs Predicted', ylabel = 'Price')"
   ]
  },
  {
   "cell_type": "code",
   "execution_count": 83,
   "metadata": {},
   "outputs": [
    {
     "data": {
      "text/plain": [
       "(<matplotlib.figure.Figure at 0x110e0950>,\n",
       " <matplotlib.axes._subplots.AxesSubplot at 0x10af2650>)"
      ]
     },
     "execution_count": 83,
     "metadata": {},
     "output_type": "execute_result"
    },
    {
     "data": {
      "image/png": "[encoded data removed]",
      "text/plain": [
       "<matplotlib.figure.Figure at 0x110e0950>"
      ]
     },
     "metadata": {},
     "output_type": "display_data"
    }
   ],
   "source": [
    "plotSeries([df['PETR4_Close_resid'], (df['PETR4_Close_resid'] - predictionsSeries)],\n",
    "           plotZeroLine = True,\n",
    "           initialPlotDate = '2017-05', finalPlotDate = '2017-06',\n",
    "           title = 'Prediction Error', ylabel = 'BRL')"
   ]
  }
 ],
 "metadata": {
  "kernelspec": {
   "display_name": "Python 2",
   "language": "python",
   "name": "python2"
  },
  "language_info": {
   "codemirror_mode": {
    "name": "ipython",
    "version": 2
   },
   "file_extension": ".py",
   "mimetype": "text/x-python",
   "name": "python",
   "nbconvert_exporter": "python",
   "pygments_lexer": "ipython2",
   "version": "2.7.5"
  }
 },
 "nbformat": 4,
 "nbformat_minor": 2
}
