{
 "cells": [
  {
   "cell_type": "code",
   "execution_count": 5,
   "metadata": {},
   "outputs": [],
   "source": [
    "from __future__ import print_function\n",
    "import sys, os\n",
    "sys.path.append('/home/danilofrp/projeto_final/neural-stocks/src')\n",
    "import time\n",
    "import numpy as np\n",
    "import pandas as pd\n",
    "import matplotlib.pyplot as plt\n",
    "from neuralstocks.dataacquisition import *\n",
    "from neuralstocks.preprocessing import *\n",
    "from neuralstocks.plots import *\n",
    "from neuralstocks.utils import *\n",
    "%matplotlib inline"
   ]
  },
  {
   "cell_type": "code",
   "execution_count": 3,
   "metadata": {},
   "outputs": [],
   "source": [
    "dataPath = '/home/danilofrp/projeto_final/data'\n",
    "assetType = 'stocks'\n",
    "asset = 'PETR4'\n",
    "frequency = 'diario'\n",
    "\n",
    "filePath = dataPath + '/' + assetType + '/' + asset + '/' + frequency + '/' + asset + '.CSV'\n",
    "\n",
    "decomposeModel = 'additive'\n",
    "\n",
    "saveDir = '/home/danilofrp/projeto_final/results/preprocessing/misc'\n",
    "if not os.path.exists(saveDir):\n",
    "    os.makedirs(saveDir)\n",
    "saveFormat = 'png'\n",
    "\n",
    "plt.rcParams['font.weight'] = 'bold'\n",
    "plt.rcParams['figure.titlesize'] = 18\n",
    "plt.rcParams['figure.titleweight'] = 'bold'\n",
    "plt.rcParams['axes.titlesize'] = 15\n",
    "plt.rcParams['axes.titleweight'] = 'bold'\n",
    "plt.rcParams['axes.labelsize'] = 15\n",
    "plt.rcParams['axes.labelweight'] = 'bold'\n",
    "plt.rcParams['xtick.labelsize'] = 13\n",
    "plt.rcParams['ytick.labelsize'] = 13"
   ]
  },
  {
   "cell_type": "code",
   "execution_count": 7,
   "metadata": {},
   "outputs": [
    {
     "name": "stdout",
     "output_type": "stream",
     "text": [
      "Time to acquire data: 2.31478190422 seconds\n"
     ]
    }
   ],
   "source": [
    "init_time = time.time()\n",
    "df = acquireData(filePath = filePath, replicateForHolidays = True)\n",
    "end_time = time.time()\n",
    "print ('Time to acquire data: '+str(end_time-init_time)+' seconds')"
   ]
  },
  {
   "cell_type": "code",
   "execution_count": null,
   "metadata": {},
   "outputs": [
    {
     "name": "stdout",
     "output_type": "stream",
     "text": [
      "Completed deTrend (2, 6). Time to run deTrend: 6.6593837738 secondss\r"
     ]
    },
    {
     "name": "stderr",
     "output_type": "stream",
     "text": [
      "/home/danilofrp/projeto_final/neural-stocks/src/neuralstocks/utils.py:41: RankWarning: Polyfit may be poorly conditioned\n",
      "  a = np.polyfit(x, y, deg = fitOrder, w = weights)\n",
      "/home/danilofrp/projeto_final/neural-stocks/src/neuralstocks/utils.py:41: RankWarning: Polyfit may be poorly conditioned\n",
      "  a = np.polyfit(x, y, deg = fitOrder, w = weights)\n"
     ]
    },
    {
     "name": "stdout",
     "output_type": "stream",
     "text": [
      "Completed deTrend (2, 8). Time to run deTrend: 6.38415193558 seconds\r"
     ]
    },
    {
     "name": "stderr",
     "output_type": "stream",
     "text": [
      "/home/danilofrp/projeto_final/neural-stocks/src/neuralstocks/utils.py:41: RankWarning: Polyfit may be poorly conditioned\n",
      "  a = np.polyfit(x, y, deg = fitOrder, w = weights)\n"
     ]
    },
    {
     "name": "stdout",
     "output_type": "stream",
     "text": [
      "Completed deTrend (9, 42). Time to run deTrend: 17.5244109631 secondss\r"
     ]
    }
   ],
   "source": [
    "init_time = time.time()\n",
    "df2 = df.copy()\n",
    "windowMaxSize = 15\n",
    "weightModelWindowMaxSize = 100\n",
    "model = 'additive'\n",
    "column = 'Close'\n",
    "minimal = None\n",
    "RMSE = np.empty((windowMaxSize + 1, weightModelWindowMaxSize + 1), dtype=float)*np.nan\n",
    "for i in range(2, windowMaxSize + 1):\n",
    "    for j in range(2 * i, weightModelWindowMaxSize + 1):\n",
    "        i_time = time.time()\n",
    "        deTrend(df2, column = column, window = i, model = model, fitOrder = 1, weightModel = 'window_acorr', weightModelWindow = j)\n",
    "        e_time = time.time()\n",
    "        print('Completed deTrend ({}, {}). Time to run deTrend: {} seconds'.format(i, j, str(e_time-i_time)), end='\\r')\n",
    "        if model.startswith('m'):\n",
    "            RMSE[i, j] = np.square((df2['{}_resid'.format(column)] - 1)).sum()/len(df2['{}_resid'.format(column)].dropna())\n",
    "        else:\n",
    "            RMSE[i, j] = np.square(df2['{}_resid'.format(column)]).sum()/len(df2['{}_resid'.format(column)].dropna())\n",
    "        if not minimal:\n",
    "            minimal = RMSE[i][j]\n",
    "            iMin = i\n",
    "            jMin = j\n",
    "        if RMSE[i, j] < minimal:\n",
    "            minimal = RMSE[i][j]\n",
    "            iMin = i\n",
    "            jMin = j\n",
    "\n",
    "print('Minimal RSME = {}, at window = {} and weightModelWindow = {} * window'.format(minimal, iMin, jMin))\n",
    "RMSE_backup = RMSE\n",
    "\n",
    "end_time = time.time()\n",
    "print('Time to run {}x{} acorr deTrend analysis: {} seconds'.format(windowMaxSize, weightModelWindowMaxSize, str(end_time-init_time)))\n"
   ]
  },
  {
   "cell_type": "code",
   "execution_count": null,
   "metadata": {},
   "outputs": [],
   "source": [
    "fig, ax = plt.subplots(figsize=(10,10))\n",
    "cax = ax.imshow(RMSE[:,:], cmap=\"jet\", aspect=\"auto\")\n",
    "plt.gca().invert_yaxis()\n",
    "ax.set_title('RMSE analysis: ACF sweep x Trend sweep')\n",
    "ax.set_ylim([3.5,10.5])\n",
    "ax.set_xlim([5.5,50.5])\n",
    "ax.set_xlabel('Delayed samples used for ACF estimation')\n",
    "ax.set_ylabel('Delayed samples used for trend estimation')\n",
    "cbar = fig.colorbar(cax)\n",
    "plt.figtext(0.5,  0.010, 'Minimal RSME: {:.3f}, using Trend window with {} samples \\nand ACF window with {} samples'.format(minimal, iMin, jMin), size = 14, horizontalalignment = 'center')\n",
    "fig.savefig('{}/{}.{}'.format(saveDir, 'PETR4_RMSEanalysis_acf', 'pdf'), bbox_inches='tight')\n"
   ]
  }
 ],
 "metadata": {
  "kernelspec": {
   "display_name": "Python 2",
   "language": "python",
   "name": "python2"
  },
  "language_info": {
   "codemirror_mode": {
    "name": "ipython",
    "version": 2
   },
   "file_extension": ".py",
   "mimetype": "text/x-python",
   "name": "python",
   "nbconvert_exporter": "python",
   "pygments_lexer": "ipython2",
   "version": "2.7.12"
  }
 },
 "nbformat": 4,
 "nbformat_minor": 2
}
