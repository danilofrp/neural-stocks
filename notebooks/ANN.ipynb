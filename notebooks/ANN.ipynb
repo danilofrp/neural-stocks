{
 "cells": [
  {
   "cell_type": "code",
   "execution_count": 2,
   "metadata": {},
   "outputs": [],
   "source": [
    "import sys, os\n",
    "sys.path.append('/home/danilofrp/projeto_final/neural-stocks/src')\n",
    "import time\n",
    "import numpy as np\n",
    "import pandas as pd\n",
    "import matplotlib.pyplot as plt\n",
    "from neuralstocks.dataacquisition import *\n",
    "from neuralstocks.plots import *\n",
    "from sklearn.preprocessing import MinMaxScaler\n",
    "\n",
    "%matplotlib inline"
   ]
  },
  {
   "cell_type": "code",
   "execution_count": 4,
   "metadata": {},
   "outputs": [],
   "source": [
    "dataPath = '/home/danilofrp/projeto_final/data'\n",
    "assetType = 'stocks'\n",
    "asset = 'PETR4'\n",
    "frequency = 'diario'\n",
    "filePath = dataPath + '/' + assetType + '/' + asset + '/' + frequency + '/' + asset + '.CSV'\n",
    "\n",
    "decomposeModel = 'additive'\n",
    "\n",
    "saveDir = '/home/danilofrp/projeto_final/results/preprocessing/misc'\n",
    "if not os.path.exists(saveDir):\n",
    "    os.makedirs(saveDir)\n",
    "saveFormat = 'png'\n",
    "\n",
    "plt.rcParams['font.weight'] = 'bold'\n",
    "plt.rcParams['figure.titlesize'] = 18\n",
    "plt.rcParams['figure.titleweight'] = 'bold'\n",
    "plt.rcParams['axes.titlesize'] = 15\n",
    "plt.rcParams['axes.titleweight'] = 'bold'\n",
    "plt.rcParams['axes.labelsize'] = 15\n",
    "plt.rcParams['axes.labelweight'] = 'bold'\n",
    "plt.rcParams['xtick.labelsize'] = 13\n",
    "plt.rcParams['ytick.labelsize'] = 13"
   ]
  },
  {
   "cell_type": "code",
   "execution_count": 5,
   "metadata": {},
   "outputs": [
    {
     "name": "stdout",
     "output_type": "stream",
     "text": [
      "Time to acquire and process data: 15.2587380409 seconds\n"
     ]
    }
   ],
   "source": [
    "init_time = time.time()\n",
    "PETR4 = acquireData(filePath = filePath,\n",
    "                    replicateForHolidays = True,\n",
    "                    meanStdLen = 20,\n",
    "                    returnCalcParams = [['Close'], ['Close', 'Open']],\n",
    "                    EMAparams = [{'column': 'Close', 'lenght': 17}, \n",
    "                                 {'column': 'Close', 'lenght': 72}, \n",
    "                                 {'column': 'Close', 'lenght': 200}, \n",
    "                                 {'column': 'Volume', 'lenght': 21}],\n",
    "                    MACDParams = [{'fast_lenght': 12, 'slow_lenght': 26, 'signal_lenght': 9}],\n",
    "                    BBParams = [{'lenght': 20}],\n",
    "                    OBVParams = [{'lenght': None}],\n",
    "                    deTrendParams = {'column': 'Close', 'window': 6, 'model': decomposeModel, \n",
    "                                     'weightModel': 'window_acorr', 'weightModelWindow': 18},\n",
    "                    colPrefix = None,\n",
    "                    dropNan = True)\n",
    "\n",
    "columnsToKeep = ['Holiday', 'Close_rollStd20', 'Close_EMA17_logdiff', 'Close_EMA72_logdiff',\n",
    "                 'Close_EMA200_logdiff', 'Volume_EMA21_logdiff', 'MACD_12_26_9', 'MACDsignal_12_26_9', 'Bollinger%b_20',\n",
    "                 'OBV', 'Close_returns', 'Close/Open_returns', 'Close_resid']\n",
    "PETR4 = PETR4[columnsToKeep]\n",
    "\n",
    "end_time = time.time()\n",
    "print 'Time to acquire and process data: '+str(end_time-init_time)+' seconds'"
   ]
  },
  {
   "cell_type": "code",
   "execution_count": null,
   "metadata": {},
   "outputs": [],
   "source": [
    "plotSeries(PETR4[['Close_EMA17_logdiff', 'Close_EMA72_logdiff', 'Close_EMA200_logdiff']], \n",
    "           title = 'Relative position of {} Close to 17-, 72- and 200-period EMA'.format(asset), ylabel = 'Price', \n",
    "           initialPlotDate = '2015', finalPlotDate = '2016')"
   ]
  },
  {
   "cell_type": "code",
   "execution_count": 6,
   "metadata": {
    "scrolled": false
   },
   "outputs": [],
   "source": [
    "PETR4_scalled = None\n",
    "scaler = MinMaxScaler(feature_range = (-1,1))\n",
    "scaler.fit(PETR4)\n",
    "PETR4_scalled = pd.DataFrame(scaler.transform(PETR4), columns = PETR4.columns.values, index = PETR4.index)\n",
    "\n",
    "#scatterHist(PETR4['Close_EMA17_logdiff'], PETR4_scalled['Close_EMA17_logdiff'], nBins = 100)"
   ]
  },
  {
   "cell_type": "code",
   "execution_count": 40,
   "metadata": {
    "scrolled": false
   },
   "outputs": [
    {
     "name": "stdout",
     "output_type": "stream",
     "text": [
      "Date\n",
      "2000-12-04    0.049945\n",
      "2000-12-05    0.069956\n",
      "2000-12-06   -0.199005\n",
      "2000-12-07    0.010717\n",
      "2000-12-08    0.045235\n",
      "2000-12-11    0.051263\n",
      "2000-12-12    0.048916\n",
      "2000-12-13    0.185498\n",
      "2000-12-14    0.062907\n",
      "2000-12-15   -0.028874\n",
      "2000-12-18   -0.099069\n",
      "Name: Close_resid, dtype: float64\n",
      "[0.0, 0.0, 0.0, 0.0, 0.0, 0.0, 0.0, 0.0, 0.0, 0.0, 0.11158664323013918, 0.11316034269078852, 0.13619258809727336, 0.15099233162822648, 0.16254230218623711, 0.17149113833174542, 0.17781939388634566, 0.17518336258423028, 0.16766115578122703, 0.15860908582192046, -0.047036163670576107, -0.030246761696000348, -0.090146618759716926, -0.068109072680145391, -0.060766467930280406, -0.057274732770613394, -0.0541605838342816, -0.0060951751191548253, 0.0033389656351548815, 5.8346711833017268e-05, -0.072295896850299482, -0.057640993725745097, -0.1249427068376938, -0.10820601407045768, -0.10538221569585324, -0.10598573813925508, -0.10658620981513178, -0.057696753582009534, -0.046559603007906389, -0.048496075400530386, -0.062084884100456213, -0.04846222989033766, -0.11778909420530172, -0.10281478940014152, -0.10169497817171895, -0.10399522656281526, -0.10628529227956608, -0.058325832490992303, -0.047934581548684983, -0.050640129262982711, -0.95317604467494699, -0.31719926600893272, 0.62998259357452246, 0.62507572902970332, 0.33566838325765969, 0.097100362359376288, 0.0058083901680583269, 0.23342993978574528, 0.2599110233807943, -0.36962726917964733, -0.05739240295789072, -0.059432464786253636, -0.077105644531845208, -0.086882573356534376, -0.093552445491538627, -0.098509724704313406, -0.10206873563711261, -0.092525868196680072, -0.081601674670252589, -0.072910620684688343, -0.028647829119158939, -0.034804756252577888, -0.043264933908431356, -0.051988461798051964, -0.060301258536749301, -0.067942951770262133, -0.074768108543632236, -0.078319660474241812, -0.078976063313443978, -0.077762974787692854, -0.89168378149694938, -0.64068381445351519, -1.2225334897159124, -0.91892083858690055, -0.80286791957995873, -0.73618964354749195, -0.68187163025366426, -0.25544663225929698, -0.13569034457621235, -0.12924858556348504, -509910841.0, -474482521.0, -574619907.0, -465496542.0, -465496542.0, -533221714.0, -595073975.0, -515314586.0, -430909604.0, -474535684.0, 0.0, 0.013072081567352701, -0.070617567213953292, 0.013841051411871511, 0.0, -0.0034423441909729015, -0.0034542348680874461, 0.047306117396936839, 0.0098522964430116395, -0.003273325344969249, 0.0032948958968527058, -0.016103407566578735, -0.070617567213953292, 0.0034423441909729197, -0.01365208916832732, -0.033901551675681339, -0.0034542348680874461, 0.033560196492301686, 0.013158084577511201, 0.0, 0.049945047575637336, 0.069955556979031552, -0.19900504812952047, 0.010716522041595233, 0.045235361957373321, 0.051262898946294655, 0.048915710786304523, 0.18549810910631859, 0.062907492544295174, -0.028873724837803927]: [-0.09906909669605346]\n"
     ]
    }
   ],
   "source": [
    "#from keras.models import Sequential\n",
    "#from keras.layers import Dense\n",
    "\n",
    "#model = Sequential()\n",
    "#model.add(Dense())\n",
    "\n",
    "xTrain, yTrain, xTest, yTest = prepData2(df = PETR4, \n",
    "                                        columnsToUse = columnsToKeep, columnToPredict = 'Close_resid', \n",
    "                                        nDelays = 10, testSetSize = len(PETR4['2017']))\n",
    "\n",
    "print PETR4['Close_resid'].head(11)\n",
    "\n",
    "print '{}: {}'.format(xTrain[0], yTrain[0])\n"
   ]
  },
  {
   "cell_type": "code",
   "execution_count": null,
   "metadata": {},
   "outputs": [],
   "source": []
  }
 ],
 "metadata": {
  "kernelspec": {
   "display_name": "Python 2",
   "language": "python",
   "name": "python2"
  },
  "language_info": {
   "codemirror_mode": {
    "name": "ipython",
    "version": 2
   },
   "file_extension": ".py",
   "mimetype": "text/x-python",
   "name": "python",
   "nbconvert_exporter": "python",
   "pygments_lexer": "ipython2",
   "version": "2.7.12"
  }
 },
 "nbformat": 4,
 "nbformat_minor": 2
}
