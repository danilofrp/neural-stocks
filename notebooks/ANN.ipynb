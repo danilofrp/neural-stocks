{
 "cells": [
  {
   "cell_type": "code",
   "execution_count": 1,
   "metadata": {},
   "outputs": [
    {
     "name": "stderr",
     "output_type": "stream",
     "text": [
      "Using TensorFlow backend.\n"
     ]
    }
   ],
   "source": [
    "import sys, os\n",
    "sys.path.append('../src')\n",
    "import time\n",
    "import numpy as np\n",
    "import pandas as pd\n",
    "import matplotlib.pyplot as plt\n",
    "from neuralstocks.dataacquisition import *\n",
    "from neuralstocks.plots import *\n",
    "from sklearn.preprocessing import MinMaxScaler\n",
    "from keras.models import Sequential\n",
    "from keras.layers import Dense\n",
    "from keras import optimizers\n",
    "\n",
    "%matplotlib inline"
   ]
  },
  {
   "cell_type": "code",
   "execution_count": 2,
   "metadata": {},
   "outputs": [],
   "source": [
    "dataPath = '../../data'\n",
    "assetType = 'stocks'\n",
    "asset = 'PETR4'\n",
    "frequency = 'diario'\n",
    "filePath = dataPath + '/' + assetType + '/' + asset + '/' + frequency + '/' + asset + '.CSV'\n",
    "\n",
    "pathPETR4 = '../../data/stocks/PETR4/diario/PETR4.CSV'\n",
    "pathIBOV = '../../data/indexes/IBOV/diario/IBOV.CSV'\n",
    "pathUSDBRL = '../../data/forex/USDBRL/diario/USDBRL.CSV'\n",
    "pathEURBRL = '../../data/forex/EURBRL/diario/EURBRL.CSV'\n",
    "\n",
    "decomposeModel = 'additive'\n",
    "\n",
    "saveDir = '../../results/preprocessing/misc'\n",
    "if not os.path.exists(saveDir):\n",
    "    os.makedirs(saveDir)\n",
    "saveFormat = 'png'\n",
    "\n",
    "plt.rcParams['font.weight'] = 'bold'\n",
    "plt.rcParams['figure.titlesize'] = 18\n",
    "plt.rcParams['figure.titleweight'] = 'bold'\n",
    "plt.rcParams['axes.titlesize'] = 15\n",
    "plt.rcParams['axes.titleweight'] = 'bold'\n",
    "plt.rcParams['axes.labelsize'] = 15\n",
    "plt.rcParams['axes.labelweight'] = 'bold'\n",
    "plt.rcParams['xtick.labelsize'] = 13\n",
    "plt.rcParams['ytick.labelsize'] = 13"
   ]
  },
  {
   "cell_type": "code",
   "execution_count": 3,
   "metadata": {},
   "outputs": [
    {
     "name": "stdout",
     "output_type": "stream",
     "text": [
      "Time to acquire and process data: 11.3099269867 seconds\n"
     ]
    }
   ],
   "source": [
    "init_time = time.time()\n",
    "PETR4 = acquireData(filePath = pathPETR4,\n",
    "                    replicateForHolidays = True,\n",
    "                    meanStdLen = 20,\n",
    "                    returnCalcParams = [['Close'], \n",
    "                                        ['Close', 'Open'],\n",
    "                                        ['High', 'Close' ],\n",
    "                                        ['Low', 'Close']],\n",
    "                    EMAparams = [{'column': 'Close', 'lenght': 17}, \n",
    "                                 {'column': 'Close', 'lenght': 72}, \n",
    "                                 {'column': 'Close', 'lenght': 200}, \n",
    "                                 {'column': 'Volume', 'lenght': 21}],\n",
    "                    MACDParams = [{'fast_lenght': 12, 'slow_lenght': 26, 'signal_lenght': 9}],\n",
    "                    BBParams = [{'lenght': 20}],\n",
    "                    OBVParams = [{'lenght': None}],\n",
    "                    deTrendParams = {'column': 'Close', 'window': 6, 'model': decomposeModel, \n",
    "                                     'weightModel': 'window_acorr', 'weightModelWindow': 18},\n",
    "                    colPrefix = 'PETR4',\n",
    "                    dropNan = True)\n",
    "\n",
    "IBOV = acquireData(filePath = pathIBOV,\n",
    "                    replicateForHolidays = True,\n",
    "                    meanStdLen = 20,\n",
    "                    returnCalcParams = [['Close'], \n",
    "                                        ['Close', 'Open'],\n",
    "                                        ['High', 'Close' ],\n",
    "                                        ['Low', 'Close']],\n",
    "                    EMAparams = [{'column': 'Close', 'lenght': 17}, \n",
    "                                 {'column': 'Close', 'lenght': 72}, \n",
    "                                 {'column': 'Close', 'lenght': 200}],\n",
    "                    colPrefix = 'IBOV',\n",
    "                    dropNan = True)\n",
    "\n",
    "USDBRL= acquireData(filePath = pathUSDBRL,\n",
    "                    replicateForHolidays = True,\n",
    "                    meanStdLen = 20,\n",
    "                    returnCalcParams = [['Close'], \n",
    "                                        ['Close', 'Open'],\n",
    "                                        ['High', 'Close' ],\n",
    "                                        ['Low', 'Close']],\n",
    "                    EMAparams = [{'column': 'Close', 'lenght': 17}, \n",
    "                                 {'column': 'Close', 'lenght': 72}, \n",
    "                                 {'column': 'Close', 'lenght': 200}],\n",
    "                    colPrefix = 'USDBRL',\n",
    "                    dropNan = True)\n",
    "\n",
    "df = pd.concat([PETR4, IBOV, USDBRL], axis = 1)\n",
    "\n",
    "columnsToUse = ['PETR4_Holiday', 'PETR4_Close_rollStd20', 'PETR4_Close_EMA17_logdiff', 'PETR4_Close_EMA72_logdiff',\n",
    "                'PETR4_Close_EMA200_logdiff', 'PETR4_Volume_EMA21_logdiff', 'PETR4_MACD_12_26_9', \n",
    "                'PETR4_MACDsignal_12_26_9', 'PETR4_Bollinger%b_20', 'PETR4_OBV', 'PETR4_Close_returns', \n",
    "                'PETR4_Close/Open_returns', 'PETR4_High/Close_returns', 'PETR4_Low/Close_returns', 'PETR4_Close_resid',\n",
    "                'IBOV_Close_rollStd20', 'IBOV_Close_EMA17_logdiff', 'IBOV_Close_EMA72_logdiff', \n",
    "                'IBOV_Close_EMA200_logdiff','IBOV_Close_returns', 'IBOV_Close/Open_returns', \n",
    "                'IBOV_High/Close_returns', 'IBOV_Low/Close_returns',\n",
    "                'USDBRL_Close_rollStd20', 'USDBRL_Close_EMA17_logdiff', 'USDBRL_Close_EMA72_logdiff', \n",
    "                'USDBRL_Close_EMA200_logdiff', 'USDBRL_Close_returns', 'USDBRL_Close/Open_returns', \n",
    "                'USDBRL_High/Close_returns', 'USDBRL_Low/Close_returns']\n",
    "\n",
    "df = df.dropna()\n",
    "\n",
    "end_time = time.time()\n",
    "print 'Time to acquire and process data: '+str(end_time-init_time)+' seconds'"
   ]
  },
  {
   "cell_type": "code",
   "execution_count": 4,
   "metadata": {},
   "outputs": [],
   "source": [
    "df = pd.concat([PETR4], axis = 1)\n",
    "\n",
    "columnsToUse = ['PETR4_Close_resid', \n",
    "                'PETR4_Close_rollStd20', \n",
    "                'PETR4_Close_EMA17_logdiff', 'PETR4_Close_EMA72_logdiff', 'PETR4_Close_EMA200_logdiff', 'PETR4_Volume_EMA21_logdiff', 'PETR4_MACD_12_26_9', \n",
    "                'PETR4_MACDsignal_12_26_9', 'PETR4_Bollinger%b_20', 'PETR4_OBV', \n",
    "                'PETR4_Close_returns', 'PETR4_Close/Open_returns', 'PETR4_High/Close_returns', 'PETR4_Low/Close_returns', \n",
    "                'PETR4_Holiday' \n",
    "               # 'IBOV_Close_rollStd20', 'IBOV_Close_EMA17_logdiff', 'IBOV_Close_EMA72_logdiff', \n",
    "               # 'IBOV_Close_EMA200_logdiff','IBOV_Close_returns', 'IBOV_Close/Open_returns', \n",
    "               # 'IBOV_High/Close_returns', 'IBOV_Low/Close_returns',\n",
    "               # 'USDBRL_Close_rollStd20', 'USDBRL_Close_EMA17_logdiff', 'USDBRL_Close_EMA72_logdiff', \n",
    "               # 'USDBRL_Close_EMA200_logdiff', 'USDBRL_Close_returns', 'USDBRL_Close/Open_returns', \n",
    "               # 'USDBRL_High/Close_returns', 'USDBRL_Low/Close_returns'\n",
    "               ]"
   ]
  },
  {
   "cell_type": "code",
   "execution_count": 5,
   "metadata": {
    "scrolled": false
   },
   "outputs": [
    {
     "name": "stdout",
     "output_type": "stream",
     "text": [
      "Number of train batches: 4185\n",
      "Number of inputs per batch: 24\n",
      "Number of test batches: 175\n",
      "Number of inputs per batch: 24\n"
     ]
    }
   ],
   "source": [
    "xTrain, yTrain, xTest, yTest = prepData(df = df, \n",
    "                                        columnsToUse = columnsToUse, columnToPredict = 'PETR4_Close_resid', \n",
    "                                        nDelays = 10, testSetSize = len(df['2017']))\n",
    "\n",
    "numberOfTrainBatches = len(xTrain)\n",
    "numberOfTrainInputs = len(xTrain[0])\n",
    "print 'Number of train batches: {}'.format(numberOfTrainBatches)\n",
    "print 'Number of inputs per batch: {}'.format(numberOfTrainInputs)\n",
    "numberOTestBatches = len(xTest)\n",
    "numberOTestInputs = len(xTest[0])\n",
    "print 'Number of test batches: {}'.format(numberOTestBatches)\n",
    "print 'Number of inputs per batch: {}'.format(numberOTestInputs)"
   ]
  },
  {
   "cell_type": "code",
   "execution_count": 6,
   "metadata": {},
   "outputs": [],
   "source": [
    "xScaler = MinMaxScaler(feature_range = (-1,1))\n",
    "xScaler.fit(xTrain)\n",
    "\n",
    "yScaler = MinMaxScaler(feature_range = (-1,1))\n",
    "yScaler.fit(yTrain)\n",
    "\n",
    "xTrain = xScaler.transform(xTrain)\n",
    "xTest  = xScaler.transform(xTest)\n",
    "\n",
    "yTrain = yScaler.transform(yTrain)"
   ]
  },
  {
   "cell_type": "code",
   "execution_count": 22,
   "metadata": {},
   "outputs": [
    {
     "name": "stdout",
     "output_type": "stream",
     "text": [
      "Time to build model: 0.0825009346008 seconds\n",
      "_________________________________________________________________\n",
      "Layer (type)                 Output Shape              Param #   \n",
      "=================================================================\n",
      "dense_13 (Dense)             (None, 24)                600       \n",
      "_________________________________________________________________\n",
      "dense_14 (Dense)             (None, 10)                250       \n",
      "_________________________________________________________________\n",
      "dense_15 (Dense)             (None, 1)                 11        \n",
      "=================================================================\n",
      "Total params: 861\n",
      "Trainable params: 861\n",
      "Non-trainable params: 0\n",
      "_________________________________________________________________\n"
     ]
    }
   ],
   "source": [
    "init_time = time.time()\n",
    "\n",
    "model = Sequential([Dense(24, activation = 'tanh', input_dim = 24),\n",
    "                    Dense(10, activation = 'tanh'),\n",
    "                    Dense(1, activation = 'tanh')])\n",
    "\n",
    "SGD = optimizers.SGD(lr=0.003, momentum=0.00, decay=0.0, nesterov=False)\n",
    "\n",
    "model.compile(optimizer=SGD, loss='mean_squared_error')\n",
    "\n",
    "end_time = time.time()\n",
    "print 'Time to build model: '+str(end_time-init_time)+' seconds'\n",
    "model.summary()"
   ]
  },
  {
   "cell_type": "code",
   "execution_count": 23,
   "metadata": {},
   "outputs": [
    {
     "name": "stdout",
     "output_type": "stream",
     "text": [
      "Time to fit model: 30.7752170563 seconds\n"
     ]
    }
   ],
   "source": [
    "init_time = time.time()\n",
    "\n",
    "fitHistory = model.fit(xTrain, \n",
    "                    yTrain, \n",
    "                    epochs = 500,\n",
    "                    verbose = 0,\n",
    "                    shuffle = True,\n",
    "                    validation_split = 0.20)\n",
    "\n",
    "end_time = time.time()\n",
    "print 'Time to fit model: '+str(end_time-init_time)+' seconds'"
   ]
  },
  {
   "cell_type": "code",
   "execution_count": 24,
   "metadata": {},
   "outputs": [
    {
     "data": {
      "text/plain": [
       "[<matplotlib.lines.Line2D at 0xca5c1d0>]"
      ]
     },
     "execution_count": 24,
     "metadata": {},
     "output_type": "execute_result"
    },
    {
     "data": {
      "image/png": "[encoded data removed]",
      "text/plain": [
       "<matplotlib.figure.Figure at 0xce8fc10>"
      ]
     },
     "metadata": {},
     "output_type": "display_data"
    }
   ],
   "source": [
    "fig, ax = plt.subplots(figsize = (10,10), nrows = 1, ncols = 1)\n",
    "fig.suptitle('RMSE per epoch')\n",
    "ax.set_xlabel('Epoch')\n",
    "ax.set_ylabel('RMSE')\n",
    "ax.plot(np.sqrt(fitHistory.history['val_loss']))"
   ]
  },
  {
   "cell_type": "code",
   "execution_count": null,
   "metadata": {},
   "outputs": [],
   "source": [
    "predictions = model.predict(xTest)\n",
    "predictions = yScaler.inverse_transform(predictions)\n",
    "predictions_clean = []\n",
    "for p in predictions:\n",
    "    predictions_clean.extend(p)\n",
    "predictionsSeries = pd.Series(predictions_clean, index = df['2017'].index)\n",
    "\n",
    "plotSeries([df['PETR4_Close_trend']+ df['PETR4_Close_resid'], \n",
    "#            df['PETR4_Close_trend'],\n",
    "            df['PETR4_Close_trend'] + predictionsSeries],\n",
    "           initialPlotDate = '2017-05', finalPlotDate = '2017-06',\n",
    "           title = 'Original Data vs Predicted', ylabel = 'Price')"
   ]
  },
  {
   "cell_type": "code",
   "execution_count": null,
   "metadata": {},
   "outputs": [],
   "source": [
    "fig, ax = plot.subplots(figsize=(10,5), nrows = 1, ncols = 1)\n",
    "fig.suptitle()"
   ]
  },
  {
   "cell_type": "code",
   "execution_count": null,
   "metadata": {},
   "outputs": [],
   "source": [
    "plotCrosscorrelation(df_scalled['PETR4_Close_resid']['2017'], predictionsSeries['2017'])"
   ]
  }
 ],
 "metadata": {
  "kernelspec": {
   "display_name": "Python 2",
   "language": "python",
   "name": "python2"
  },
  "language_info": {
   "codemirror_mode": {
    "name": "ipython",
    "version": 2
   },
   "file_extension": ".py",
   "mimetype": "text/x-python",
   "name": "python",
   "nbconvert_exporter": "python",
   "pygments_lexer": "ipython2",
   "version": "2.7.5"
  }
 },
 "nbformat": 4,
 "nbformat_minor": 2
}
