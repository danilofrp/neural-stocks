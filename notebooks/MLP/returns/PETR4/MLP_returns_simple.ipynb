{
 "cells": [
  {
   "cell_type": "markdown",
   "metadata": {},
   "source": [
    "# MLP Predictor for stock data\n",
    "\n",
    "## Author: Danilo Filippo Reiszel Pereira\n",
    "Univesidade Federal do Rio de Janeiro\n",
    "\n",
    "This notebook contains the creation a Multi-layer Perceptron model to predict D+1 closing prices of PETR4 stocks, as input 10 delays of it's return series"
   ]
  },
  {
   "cell_type": "code",
   "execution_count": 4,
   "metadata": {},
   "outputs": [],
   "source": [
    "from __future__ import print_function\n",
    "import sys, os\n",
    "sys.path.append('../../../../src')\n",
    "import time\n",
    "import numpy as np\n",
    "import pandas as pd\n",
    "import matplotlib.pyplot as plt\n",
    "from neuralstocks.dataacquisition import *\n",
    "from neuralstocks.plots import *\n",
    "from sklearn.preprocessing import MinMaxScaler\n",
    "from keras.models import Sequential, load_model\n",
    "from keras.layers import Dense\n",
    "from keras import optimizers\n",
    "from keras.callbacks import ModelCheckpoint, EarlyStopping"
   ]
  },
  {
   "cell_type": "markdown",
   "metadata": {},
   "source": [
    "# Global Params\n",
    "Setting global params and useful variables, such as directories and image styling"
   ]
  },
  {
   "cell_type": "code",
   "execution_count": 8,
   "metadata": {},
   "outputs": [],
   "source": [
    "pathPETR4 = '../../../../../data/stocks/PETR4/diario/PETR4.CSV'\n",
    "pathIBOV = '../../../../../data/indexes/IBOV/diario/IBOV.CSV'\n",
    "pathUSDBRL = '../../../../../data/forex/USDBRL/diario/USDBRL.CSV'\n",
    "\n",
    "decomposeModel = 'additive'\n",
    "\n",
    "saveVarDir = './Variables'\n",
    "os.makedirs(saveVarDir) if not os.path.exists(saveVarDir) else print('')\n",
    "\n",
    "saveFigDir = './Figures'\n",
    "os.makedirs(saveFigDir) if not os.path.exists(saveFigDir) else print('')\n",
    "\n",
    "saveModelDir = './Models'\n",
    "os.makedirs(saveModelDir) if not os.path.exists(saveModelDir) else print('')\n",
    "\n",
    "saveImgFormat = 'png'\n",
    "\n",
    "plt.rcParams['font.weight'] = 'bold'\n",
    "plt.rcParams['figure.titlesize'] = 20\n",
    "plt.rcParams['figure.titleweight'] = 'bold'\n",
    "plt.rcParams['axes.titlesize'] = 18\n",
    "plt.rcParams['axes.titleweight'] = 'bold'\n",
    "plt.rcParams['axes.labelsize'] = 18\n",
    "plt.rcParams['axes.labelweight'] = 'bold'\n",
    "plt.rcParams['xtick.labelsize'] = 15\n",
    "plt.rcParams['ytick.labelsize'] = 15"
   ]
  },
  {
   "cell_type": "markdown",
   "metadata": {},
   "source": [
    "## Data Acquisition and Preprocessing\n",
    "\n",
    "Gathers and preprocess data. Data from auxiliary time series (such as IBOV index and USDBRL exchange rate) is also gathered, though tipically less indicators are calculated for this series. Trend Extraction is applied to desired series.\n",
    "\n",
    "<strong>List of indicators applied to main time series: </strong>\n",
    "<ul>\n",
    "    <li>Mean and Standard Deviation, 20 periods</li>\n",
    "    <li>Returns Calculations:\n",
    "        <ul>\n",
    "            <li>Close<sub>d</sub> / Close<sub>d-1</sub></li>\n",
    "            <li>Close<sub>d</sub> / Open<sub>d</sub></li>\n",
    "            <li>High<sub>d</sub> / Close<sub>d</sub></li>\n",
    "            <li>Low<sub>d</sub> / Close<sub>d</sub></li>\n",
    "        </ul>\n",
    "    </li>\n",
    "    <li>EMAs:\n",
    "        <ul>\n",
    "            <li>Close, 17 periods</li>\n",
    "            <li>Close, 72 periods</li>\n",
    "            <li>Close, 200 periods</li>\n",
    "            <li>Volume, 21 periods</li>\n",
    "        </ul>\n",
    "    </li>\n",
    "    <li>MACD, fast EMA = 12 periods, slow EMA = 26 periods, signal EMA = 9 periods</li>\n",
    "    <li>Bollinger Bands, 20 periods</li>\n",
    "    <li>On-Balance Volume (OBV)</li>\n",
    "</ul>"
   ]
  },
  {
   "cell_type": "code",
   "execution_count": 10,
   "metadata": {},
   "outputs": [
    {
     "name": "stdout",
     "output_type": "stream",
     "text": [
      "Time to acquire and process data: 4.59758496284 seconds\n"
     ]
    }
   ],
   "source": [
    "init_time = time.time()\n",
    "PETR4 = acquireData(filePath = pathPETR4,\n",
    "                    replicateForHolidays = True,\n",
    "                    meanStdLen = 20,\n",
    "                    returnCalcParams = [['Close'], ['Close', 'Open'], ['High', 'Close' ], ['Low', 'Close']],\n",
    "                    EMAparams = [{'column': 'Close', 'lenght': 17}, \n",
    "                                 {'column': 'Close', 'lenght': 72}, \n",
    "                                 {'column': 'Close', 'lenght': 200}, \n",
    "                                 {'column': 'Volume', 'lenght': 21}],\n",
    "                    MACDParams = [{'fast_lenght': 12, 'slow_lenght': 26, 'signal_lenght': 9}],\n",
    "                    BBParams = [{'lenght': 20}],\n",
    "                    OBVParams = [{'lenght': None}],\n",
    "                    colPrefix = 'PETR4',\n",
    "                    dropNan = True\n",
    "                   )\n",
    "\n",
    "IBOV = acquireData(filePath = pathIBOV,\n",
    "                    replicateForHolidays = True,\n",
    "                    meanStdLen = 20,\n",
    "                    returnCalcParams = [['Close'], ['Close', 'Open'], ['High', 'Close' ], ['Low', 'Close']],\n",
    "                    EMAparams = [{'column': 'Close', 'lenght': 17}, \n",
    "                                 {'column': 'Close', 'lenght': 72}, \n",
    "                                 {'column': 'Close', 'lenght': 200}],\n",
    "                    colPrefix = 'IBOV',\n",
    "                    dropNan = True\n",
    "                  )\n",
    "\n",
    "USDBRL= acquireData(filePath = pathUSDBRL,\n",
    "                    replicateForHolidays = True,\n",
    "                    meanStdLen = 20,\n",
    "                    returnCalcParams = [['Close'], ['Close', 'Open'], ['High', 'Close' ], ['Low', 'Close']],\n",
    "                    EMAparams = [{'column': 'Close', 'lenght': 17}, \n",
    "                                 {'column': 'Close', 'lenght': 72}, \n",
    "                                 {'column': 'Close', 'lenght': 200}],\n",
    "                    colPrefix = 'USDBRL',\n",
    "                    dropNan = True\n",
    "                   )\n",
    "\n",
    "\n",
    "end_time = time.time()\n",
    "print('Time to acquire and process data: '+str(end_time-init_time)+' seconds')"
   ]
  },
  {
   "cell_type": "markdown",
   "metadata": {},
   "source": [
    "## Dataset concatenation and selection of wich features to feed to the model"
   ]
  },
  {
   "cell_type": "code",
   "execution_count": 11,
   "metadata": {},
   "outputs": [],
   "source": [
    "df = pd.concat([PETR4, IBOV, USDBRL], axis = 1).dropna()\n",
    "\n",
    "columnsToUse = [ \n",
    "                'PETR4_Close_rollStd20', \n",
    "                'PETR4_Close_returns', 'PETR4_Close/Open_returns', 'PETR4_High/Close_returns', 'PETR4_Low/Close_returns', \n",
    "                'PETR4_Close_EMA17_logdiff', 'PETR4_Close_EMA72_logdiff', 'PETR4_Close_EMA200_logdiff', 'PETR4_Volume_EMA21_logdiff', \n",
    "                'PETR4_MACD_12_26_9', 'PETR4_MACDsignal_12_26_9', 'PETR4_Bollinger%b_20', 'PETR4_OBV', \n",
    "                'PETR4_Holiday',\n",
    "                'IBOV_Close_rollStd20', \n",
    "                'IBOV_Close_returns', 'IBOV_Close/Open_returns', 'IBOV_High/Close_returns', 'IBOV_Low/Close_returns',\n",
    "                'IBOV_Close_EMA17_logdiff', 'IBOV_Close_EMA72_logdiff', 'IBOV_Close_EMA200_logdiff',\n",
    "                'USDBRL_Close_rollStd20', \n",
    "                'USDBRL_Close_returns', 'USDBRL_Close/Open_returns', 'USDBRL_High/Close_returns', 'USDBRL_Low/Close_returns',\n",
    "                'USDBRL_Close_EMA17_logdiff', 'USDBRL_Close_EMA72_logdiff', 'USDBRL_Close_EMA200_logdiff',\n",
    "               ]"
   ]
  },
  {
   "cell_type": "markdown",
   "metadata": {},
   "source": [
    "## Creation of feature matrix and output array, split of data in Train, Validation and Test sets\n",
    "All data from 2017 is used as Test set, reamining data is split into train and validation according to *validationSplitSize*"
   ]
  },
  {
   "cell_type": "code",
   "execution_count": null,
   "metadata": {},
   "outputs": [],
   "source": [
    "xTrain, yTrain, xVal, yVal, xTest, yTest = prepData(df = df, \n",
    "                                                    columnsToUse = columnsToUse, \n",
    "                                                    columnToPredict = 'PETR4_Close_returns', \n",
    "                                                    nDelays = 10, \n",
    "                                                    testSetSize = len(df['2017']), \n",
    "                                                    validationSplitSize = 0.15)"
   ]
  }
 ],
 "metadata": {
  "kernelspec": {
   "display_name": "Python 2",
   "language": "python",
   "name": "python2"
  },
  "language_info": {
   "codemirror_mode": {
    "name": "ipython",
    "version": 2
   },
   "file_extension": ".py",
   "mimetype": "text/x-python",
   "name": "python",
   "nbconvert_exporter": "python",
   "pygments_lexer": "ipython2",
   "version": "2.7.5"
  }
 },
 "nbformat": 4,
 "nbformat_minor": 2
}
